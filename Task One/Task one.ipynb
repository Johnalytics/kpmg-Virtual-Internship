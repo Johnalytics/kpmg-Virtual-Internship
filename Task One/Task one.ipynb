{
 "cells": [
  {
   "cell_type": "markdown",
   "id": "e333e918",
   "metadata": {},
   "source": [
    "# Data Quality Assessment"
   ]
  },
  {
   "cell_type": "markdown",
   "id": "7164dda0",
   "metadata": {},
   "source": [
    "## Importing The Necessary Libraries"
   ]
  },
  {
   "cell_type": "code",
   "execution_count": 3,
   "id": "4471f04e",
   "metadata": {},
   "outputs": [],
   "source": [
    "import numpy as np\n",
    "import pandas as pd\n",
    "import re\n",
    "import matplotlib.pyplot as plt\n",
    "from datetime import datetime, timedelta\n",
    "import matplotlib.pyplot as plt \n",
    "import seaborn as sns"
   ]
  },
  {
   "cell_type": "markdown",
   "id": "64b7b37f",
   "metadata": {},
   "source": [
    "## Importing Our Dataset"
   ]
  },
  {
   "cell_type": "code",
   "execution_count": 4,
   "id": "48687b35",
   "metadata": {},
   "outputs": [],
   "source": [
    "kpmg_transactions = pd.read_excel(r'C:\\Users\\USER\\Documents\\Dataset\\KPMG_VI_New_raw_data_update_final.xlsx', sheet_name = 'Transactions')\n",
    "\n",
    "new_customer_List = pd.read_excel(r'C:\\Users\\USER\\Documents\\Dataset\\KPMG_VI_New_raw_data_update_final.xlsx', sheet_name = 'NewCustomerList')\\\n",
    "\n",
    "customerdemographic = pd.read_excel(r'C:\\Users\\USER\\Documents\\Dataset\\KPMG_VI_New_raw_data_update_final.xlsx', sheet_name = 'CustomerDemographic')\n",
    "\n",
    "customer_address = pd.read_excel(r'C:\\Users\\USER\\Documents\\Dataset\\KPMG_VI_New_raw_data_update_final.xlsx', sheet_name = 'CustomerAddress')"
   ]
  },
  {
   "cell_type": "markdown",
   "id": "f65bf28d",
   "metadata": {},
   "source": [
    "#### Setting the display options of the dataframes rows and columns"
   ]
  },
  {
   "cell_type": "code",
   "execution_count": 5,
   "id": "58afeee2",
   "metadata": {},
   "outputs": [],
   "source": [
    "pd.set_option('display.max_columns', None)\n",
    "#pd.set_option('display.max_rows', None)"
   ]
  },
  {
   "cell_type": "code",
   "execution_count": 6,
   "id": "a12d56fc",
   "metadata": {},
   "outputs": [],
   "source": [
    "new_customer_List.drop(new_customer_List.iloc[:, 16:21], axis=1, inplace = True)"
   ]
  },
  {
   "cell_type": "markdown",
   "id": "4e6e8377",
   "metadata": {},
   "source": [
    "#  kpmg_transactions"
   ]
  },
  {
   "cell_type": "code",
   "execution_count": 7,
   "id": "bee05c0c",
   "metadata": {
    "scrolled": true
   },
   "outputs": [
    {
     "data": {
      "text/html": [
       "<div>\n",
       "<style scoped>\n",
       "    .dataframe tbody tr th:only-of-type {\n",
       "        vertical-align: middle;\n",
       "    }\n",
       "\n",
       "    .dataframe tbody tr th {\n",
       "        vertical-align: top;\n",
       "    }\n",
       "\n",
       "    .dataframe thead th {\n",
       "        text-align: right;\n",
       "    }\n",
       "</style>\n",
       "<table border=\"1\" class=\"dataframe\">\n",
       "  <thead>\n",
       "    <tr style=\"text-align: right;\">\n",
       "      <th></th>\n",
       "      <th>transaction_id</th>\n",
       "      <th>product_id</th>\n",
       "      <th>customer_id</th>\n",
       "      <th>transaction_date</th>\n",
       "      <th>online_order</th>\n",
       "      <th>order_status</th>\n",
       "      <th>brand</th>\n",
       "      <th>product_line</th>\n",
       "      <th>product_class</th>\n",
       "      <th>product_size</th>\n",
       "      <th>list_price</th>\n",
       "      <th>standard_cost</th>\n",
       "      <th>product_first_sold_date</th>\n",
       "      <th>Unnamed: 13</th>\n",
       "      <th>Unnamed: 14</th>\n",
       "      <th>Unnamed: 15</th>\n",
       "      <th>Unnamed: 16</th>\n",
       "      <th>Unnamed: 17</th>\n",
       "      <th>Unnamed: 18</th>\n",
       "      <th>Unnamed: 19</th>\n",
       "      <th>Unnamed: 20</th>\n",
       "      <th>Unnamed: 21</th>\n",
       "      <th>Unnamed: 22</th>\n",
       "      <th>Unnamed: 23</th>\n",
       "      <th>Unnamed: 24</th>\n",
       "      <th>Unnamed: 25</th>\n",
       "    </tr>\n",
       "  </thead>\n",
       "  <tbody>\n",
       "    <tr>\n",
       "      <th>0</th>\n",
       "      <td>1</td>\n",
       "      <td>2</td>\n",
       "      <td>2950</td>\n",
       "      <td>2017-02-25</td>\n",
       "      <td>0.0</td>\n",
       "      <td>Approved</td>\n",
       "      <td>Solex</td>\n",
       "      <td>Standard</td>\n",
       "      <td>medium</td>\n",
       "      <td>medium</td>\n",
       "      <td>71.49</td>\n",
       "      <td>53.62</td>\n",
       "      <td>2012-12-02</td>\n",
       "      <td>NaN</td>\n",
       "      <td>NaN</td>\n",
       "      <td>NaN</td>\n",
       "      <td>NaN</td>\n",
       "      <td>NaN</td>\n",
       "      <td>NaN</td>\n",
       "      <td>NaN</td>\n",
       "      <td>NaN</td>\n",
       "      <td>NaN</td>\n",
       "      <td>NaN</td>\n",
       "      <td>NaN</td>\n",
       "      <td>NaN</td>\n",
       "      <td>NaN</td>\n",
       "    </tr>\n",
       "    <tr>\n",
       "      <th>1</th>\n",
       "      <td>2</td>\n",
       "      <td>3</td>\n",
       "      <td>3120</td>\n",
       "      <td>2017-05-21</td>\n",
       "      <td>1.0</td>\n",
       "      <td>Approved</td>\n",
       "      <td>Trek Bicycles</td>\n",
       "      <td>Standard</td>\n",
       "      <td>medium</td>\n",
       "      <td>large</td>\n",
       "      <td>2091.47</td>\n",
       "      <td>388.92</td>\n",
       "      <td>2014-03-03</td>\n",
       "      <td>NaN</td>\n",
       "      <td>NaN</td>\n",
       "      <td>NaN</td>\n",
       "      <td>NaN</td>\n",
       "      <td>NaN</td>\n",
       "      <td>NaN</td>\n",
       "      <td>NaN</td>\n",
       "      <td>NaN</td>\n",
       "      <td>NaN</td>\n",
       "      <td>NaN</td>\n",
       "      <td>NaN</td>\n",
       "      <td>NaN</td>\n",
       "      <td>NaN</td>\n",
       "    </tr>\n",
       "    <tr>\n",
       "      <th>2</th>\n",
       "      <td>3</td>\n",
       "      <td>37</td>\n",
       "      <td>402</td>\n",
       "      <td>2017-10-16</td>\n",
       "      <td>0.0</td>\n",
       "      <td>Approved</td>\n",
       "      <td>OHM Cycles</td>\n",
       "      <td>Standard</td>\n",
       "      <td>low</td>\n",
       "      <td>medium</td>\n",
       "      <td>1793.43</td>\n",
       "      <td>248.82</td>\n",
       "      <td>1999-07-20</td>\n",
       "      <td>NaN</td>\n",
       "      <td>NaN</td>\n",
       "      <td>NaN</td>\n",
       "      <td>NaN</td>\n",
       "      <td>NaN</td>\n",
       "      <td>NaN</td>\n",
       "      <td>NaN</td>\n",
       "      <td>NaN</td>\n",
       "      <td>NaN</td>\n",
       "      <td>NaN</td>\n",
       "      <td>NaN</td>\n",
       "      <td>NaN</td>\n",
       "      <td>NaN</td>\n",
       "    </tr>\n",
       "    <tr>\n",
       "      <th>3</th>\n",
       "      <td>4</td>\n",
       "      <td>88</td>\n",
       "      <td>3135</td>\n",
       "      <td>2017-08-31</td>\n",
       "      <td>0.0</td>\n",
       "      <td>Approved</td>\n",
       "      <td>Norco Bicycles</td>\n",
       "      <td>Standard</td>\n",
       "      <td>medium</td>\n",
       "      <td>medium</td>\n",
       "      <td>1198.46</td>\n",
       "      <td>381.10</td>\n",
       "      <td>1998-12-16</td>\n",
       "      <td>NaN</td>\n",
       "      <td>NaN</td>\n",
       "      <td>NaN</td>\n",
       "      <td>NaN</td>\n",
       "      <td>NaN</td>\n",
       "      <td>NaN</td>\n",
       "      <td>NaN</td>\n",
       "      <td>NaN</td>\n",
       "      <td>NaN</td>\n",
       "      <td>NaN</td>\n",
       "      <td>NaN</td>\n",
       "      <td>NaN</td>\n",
       "      <td>NaN</td>\n",
       "    </tr>\n",
       "    <tr>\n",
       "      <th>4</th>\n",
       "      <td>5</td>\n",
       "      <td>78</td>\n",
       "      <td>787</td>\n",
       "      <td>2017-10-01</td>\n",
       "      <td>1.0</td>\n",
       "      <td>Approved</td>\n",
       "      <td>Giant Bicycles</td>\n",
       "      <td>Standard</td>\n",
       "      <td>medium</td>\n",
       "      <td>large</td>\n",
       "      <td>1765.30</td>\n",
       "      <td>709.48</td>\n",
       "      <td>2015-08-10</td>\n",
       "      <td>NaN</td>\n",
       "      <td>NaN</td>\n",
       "      <td>NaN</td>\n",
       "      <td>NaN</td>\n",
       "      <td>NaN</td>\n",
       "      <td>NaN</td>\n",
       "      <td>NaN</td>\n",
       "      <td>NaN</td>\n",
       "      <td>NaN</td>\n",
       "      <td>NaN</td>\n",
       "      <td>NaN</td>\n",
       "      <td>NaN</td>\n",
       "      <td>NaN</td>\n",
       "    </tr>\n",
       "  </tbody>\n",
       "</table>\n",
       "</div>"
      ],
      "text/plain": [
       "   transaction_id  product_id  customer_id transaction_date  online_order  \\\n",
       "0               1           2         2950       2017-02-25           0.0   \n",
       "1               2           3         3120       2017-05-21           1.0   \n",
       "2               3          37          402       2017-10-16           0.0   \n",
       "3               4          88         3135       2017-08-31           0.0   \n",
       "4               5          78          787       2017-10-01           1.0   \n",
       "\n",
       "  order_status           brand product_line product_class product_size  \\\n",
       "0     Approved           Solex     Standard        medium       medium   \n",
       "1     Approved   Trek Bicycles     Standard        medium        large   \n",
       "2     Approved      OHM Cycles     Standard           low       medium   \n",
       "3     Approved  Norco Bicycles     Standard        medium       medium   \n",
       "4     Approved  Giant Bicycles     Standard        medium        large   \n",
       "\n",
       "   list_price  standard_cost product_first_sold_date  Unnamed: 13  \\\n",
       "0       71.49          53.62              2012-12-02          NaN   \n",
       "1     2091.47         388.92              2014-03-03          NaN   \n",
       "2     1793.43         248.82              1999-07-20          NaN   \n",
       "3     1198.46         381.10              1998-12-16          NaN   \n",
       "4     1765.30         709.48              2015-08-10          NaN   \n",
       "\n",
       "   Unnamed: 14  Unnamed: 15  Unnamed: 16  Unnamed: 17  Unnamed: 18  \\\n",
       "0          NaN          NaN          NaN          NaN          NaN   \n",
       "1          NaN          NaN          NaN          NaN          NaN   \n",
       "2          NaN          NaN          NaN          NaN          NaN   \n",
       "3          NaN          NaN          NaN          NaN          NaN   \n",
       "4          NaN          NaN          NaN          NaN          NaN   \n",
       "\n",
       "   Unnamed: 19  Unnamed: 20  Unnamed: 21  Unnamed: 22  Unnamed: 23  \\\n",
       "0          NaN          NaN          NaN          NaN          NaN   \n",
       "1          NaN          NaN          NaN          NaN          NaN   \n",
       "2          NaN          NaN          NaN          NaN          NaN   \n",
       "3          NaN          NaN          NaN          NaN          NaN   \n",
       "4          NaN          NaN          NaN          NaN          NaN   \n",
       "\n",
       "   Unnamed: 24  Unnamed: 25  \n",
       "0          NaN          NaN  \n",
       "1          NaN          NaN  \n",
       "2          NaN          NaN  \n",
       "3          NaN          NaN  \n",
       "4          NaN          NaN  "
      ]
     },
     "execution_count": 7,
     "metadata": {},
     "output_type": "execute_result"
    }
   ],
   "source": [
    "kpmg_transactions.head()"
   ]
  },
  {
   "cell_type": "markdown",
   "id": "1cc8a677",
   "metadata": {},
   "source": [
    "#### Checking Dataset Rows And Columns"
   ]
  },
  {
   "cell_type": "code",
   "execution_count": 8,
   "id": "413bed8b",
   "metadata": {
    "scrolled": true
   },
   "outputs": [
    {
     "data": {
      "text/plain": [
       "(20000, 26)"
      ]
     },
     "execution_count": 8,
     "metadata": {},
     "output_type": "execute_result"
    }
   ],
   "source": [
    "kpmg_transactions.shape"
   ]
  },
  {
   "cell_type": "code",
   "execution_count": null,
   "id": "3e0d8f56",
   "metadata": {},
   "outputs": [],
   "source": []
  },
  {
   "cell_type": "markdown",
   "id": "9f2b8d22",
   "metadata": {},
   "source": [
    "## Data Cleaning And Transformation"
   ]
  },
  {
   "cell_type": "markdown",
   "id": "9f9f18f2",
   "metadata": {},
   "source": [
    "#### Dropping The Unnecessary Columns and rows From Our Transactions Dataset"
   ]
  },
  {
   "cell_type": "code",
   "execution_count": 9,
   "id": "39b9f2f4",
   "metadata": {},
   "outputs": [],
   "source": [
    "kpmg_transactions.drop(kpmg_transactions.iloc[:, 13:], axis=1, inplace = True)"
   ]
  },
  {
   "cell_type": "code",
   "execution_count": 10,
   "id": "f8af776c",
   "metadata": {},
   "outputs": [
    {
     "data": {
      "text/html": [
       "<div>\n",
       "<style scoped>\n",
       "    .dataframe tbody tr th:only-of-type {\n",
       "        vertical-align: middle;\n",
       "    }\n",
       "\n",
       "    .dataframe tbody tr th {\n",
       "        vertical-align: top;\n",
       "    }\n",
       "\n",
       "    .dataframe thead th {\n",
       "        text-align: right;\n",
       "    }\n",
       "</style>\n",
       "<table border=\"1\" class=\"dataframe\">\n",
       "  <thead>\n",
       "    <tr style=\"text-align: right;\">\n",
       "      <th></th>\n",
       "      <th>transaction_id</th>\n",
       "      <th>product_id</th>\n",
       "      <th>customer_id</th>\n",
       "      <th>transaction_date</th>\n",
       "      <th>online_order</th>\n",
       "      <th>order_status</th>\n",
       "      <th>brand</th>\n",
       "      <th>product_line</th>\n",
       "      <th>product_class</th>\n",
       "      <th>product_size</th>\n",
       "      <th>list_price</th>\n",
       "      <th>standard_cost</th>\n",
       "      <th>product_first_sold_date</th>\n",
       "    </tr>\n",
       "  </thead>\n",
       "  <tbody>\n",
       "    <tr>\n",
       "      <th>0</th>\n",
       "      <td>1</td>\n",
       "      <td>2</td>\n",
       "      <td>2950</td>\n",
       "      <td>2017-02-25</td>\n",
       "      <td>0.0</td>\n",
       "      <td>Approved</td>\n",
       "      <td>Solex</td>\n",
       "      <td>Standard</td>\n",
       "      <td>medium</td>\n",
       "      <td>medium</td>\n",
       "      <td>71.49</td>\n",
       "      <td>53.62</td>\n",
       "      <td>2012-12-02</td>\n",
       "    </tr>\n",
       "    <tr>\n",
       "      <th>1</th>\n",
       "      <td>2</td>\n",
       "      <td>3</td>\n",
       "      <td>3120</td>\n",
       "      <td>2017-05-21</td>\n",
       "      <td>1.0</td>\n",
       "      <td>Approved</td>\n",
       "      <td>Trek Bicycles</td>\n",
       "      <td>Standard</td>\n",
       "      <td>medium</td>\n",
       "      <td>large</td>\n",
       "      <td>2091.47</td>\n",
       "      <td>388.92</td>\n",
       "      <td>2014-03-03</td>\n",
       "    </tr>\n",
       "  </tbody>\n",
       "</table>\n",
       "</div>"
      ],
      "text/plain": [
       "   transaction_id  product_id  customer_id transaction_date  online_order  \\\n",
       "0               1           2         2950       2017-02-25           0.0   \n",
       "1               2           3         3120       2017-05-21           1.0   \n",
       "\n",
       "  order_status          brand product_line product_class product_size  \\\n",
       "0     Approved          Solex     Standard        medium       medium   \n",
       "1     Approved  Trek Bicycles     Standard        medium        large   \n",
       "\n",
       "   list_price  standard_cost product_first_sold_date  \n",
       "0       71.49          53.62              2012-12-02  \n",
       "1     2091.47         388.92              2014-03-03  "
      ]
     },
     "execution_count": 10,
     "metadata": {},
     "output_type": "execute_result"
    }
   ],
   "source": [
    "kpmg_transactions.head(2)"
   ]
  },
  {
   "cell_type": "code",
   "execution_count": 11,
   "id": "d05bc650",
   "metadata": {},
   "outputs": [
    {
     "data": {
      "text/plain": [
       "Approved     19821\n",
       "Cancelled      179\n",
       "Name: order_status, dtype: int64"
      ]
     },
     "execution_count": 11,
     "metadata": {},
     "output_type": "execute_result"
    }
   ],
   "source": [
    "kpmg_transactions.order_status.value_counts()"
   ]
  },
  {
   "cell_type": "markdown",
   "id": "4d2e1db3",
   "metadata": {},
   "source": [
    "Present in the dataset are 179 cancelled transactions. These set of transactions are irrelevant to our analysis. So, we would be dropping all rows with cancelled transactions."
   ]
  },
  {
   "cell_type": "code",
   "execution_count": 12,
   "id": "d4f34324",
   "metadata": {},
   "outputs": [],
   "source": [
    "kpmg_transactions=kpmg_transactions[kpmg_transactions['order_status'] == 'Approved']"
   ]
  },
  {
   "cell_type": "markdown",
   "id": "45d076b1",
   "metadata": {},
   "source": [
    "#### Transforming The Online Order Data"
   ]
  },
  {
   "cell_type": "code",
   "execution_count": 13,
   "id": "89adca73",
   "metadata": {},
   "outputs": [],
   "source": [
    "kpmg_transactions['online_order']=kpmg_transactions['online_order'].replace({0.0:'No', 1.0:'Yes'})"
   ]
  },
  {
   "cell_type": "markdown",
   "id": "8d0f54d9",
   "metadata": {},
   "source": [
    "#### Creating The Profit Column In Our Dataset"
   ]
  },
  {
   "cell_type": "code",
   "execution_count": 14,
   "id": "ad467ae9",
   "metadata": {},
   "outputs": [],
   "source": [
    "profit = kpmg_transactions['list_price']-kpmg_transactions['standard_cost']\n",
    "kpmg_transactions.insert(12,'profit',profit)"
   ]
  },
  {
   "cell_type": "code",
   "execution_count": null,
   "id": "0537a512",
   "metadata": {},
   "outputs": [],
   "source": []
  },
  {
   "cell_type": "markdown",
   "id": "282d408e",
   "metadata": {},
   "source": [
    "## Checking For Duplicates"
   ]
  },
  {
   "cell_type": "code",
   "execution_count": 15,
   "id": "69be86d3",
   "metadata": {
    "scrolled": true
   },
   "outputs": [
    {
     "data": {
      "text/plain": [
       "0"
      ]
     },
     "execution_count": 15,
     "metadata": {},
     "output_type": "execute_result"
    }
   ],
   "source": [
    "kpmg_transactions.duplicated().sum()"
   ]
  },
  {
   "cell_type": "markdown",
   "id": "20a795e6",
   "metadata": {},
   "source": [
    "### Checking For Columns With missing values"
   ]
  },
  {
   "cell_type": "code",
   "execution_count": 16,
   "id": "eb4009cc",
   "metadata": {},
   "outputs": [
    {
     "data": {
      "text/plain": [
       "online_order               354\n",
       "brand                      196\n",
       "product_line               196\n",
       "product_class              196\n",
       "product_size               196\n",
       "standard_cost              196\n",
       "profit                     196\n",
       "product_first_sold_date    196\n",
       "dtype: int64"
      ]
     },
     "execution_count": 16,
     "metadata": {},
     "output_type": "execute_result"
    }
   ],
   "source": [
    "kpmg_transactions.isnull().sum()[(kpmg_transactions.isnull().sum()) > 0]"
   ]
  },
  {
   "cell_type": "markdown",
   "id": "dd2ec0eb",
   "metadata": {},
   "source": [
    "### Percentage Of  Data Missing From Each Column"
   ]
  },
  {
   "cell_type": "code",
   "execution_count": 17,
   "id": "f4b9adc2",
   "metadata": {},
   "outputs": [],
   "source": [
    "missing_values = kpmg_transactions[kpmg_transactions.isnull().any(axis=1)].shape[0]\n",
    "data_rows = kpmg_transactions.shape[0]"
   ]
  },
  {
   "cell_type": "code",
   "execution_count": 18,
   "id": "0c06d4cc",
   "metadata": {
    "scrolled": true
   },
   "outputs": [
    {
     "data": {
      "text/plain": [
       "online_order               1.785985\n",
       "brand                      0.988850\n",
       "product_line               0.988850\n",
       "product_class              0.988850\n",
       "product_size               0.988850\n",
       "standard_cost              0.988850\n",
       "profit                     0.988850\n",
       "product_first_sold_date    0.988850\n",
       "dtype: float64"
      ]
     },
     "execution_count": 18,
     "metadata": {},
     "output_type": "execute_result"
    }
   ],
   "source": [
    "kpmg_transactions.isnull().sum()[(kpmg_transactions.isnull().sum()) > 0]/data_rows*100"
   ]
  },
  {
   "cell_type": "markdown",
   "id": "f92ca33f",
   "metadata": {},
   "source": [
    "Online order has the most missing values, with approximately 1.8 percent of its values missing from the column. While the other seven other columns accounts for less than one percent of their values missing in their respective columns."
   ]
  },
  {
   "cell_type": "markdown",
   "id": "62c6653c",
   "metadata": {},
   "source": [
    "### Percentage Of The Total Missing Values From Our Dataset"
   ]
  },
  {
   "cell_type": "code",
   "execution_count": 17,
   "id": "985f4d78",
   "metadata": {},
   "outputs": [
    {
     "data": {
      "text/plain": [
       "548"
      ]
     },
     "execution_count": 17,
     "metadata": {},
     "output_type": "execute_result"
    }
   ],
   "source": [
    "missing_values"
   ]
  },
  {
   "cell_type": "code",
   "execution_count": 18,
   "id": "f3ebe900",
   "metadata": {},
   "outputs": [],
   "source": [
    "percent = (missing_values/data_rows)*100\n",
    "percent = round(percent,2)"
   ]
  },
  {
   "cell_type": "code",
   "execution_count": 19,
   "id": "df7bb554",
   "metadata": {},
   "outputs": [
    {
     "data": {
      "text/plain": [
       "548"
      ]
     },
     "execution_count": 19,
     "metadata": {},
     "output_type": "execute_result"
    }
   ],
   "source": [
    "missing_values"
   ]
  },
  {
   "cell_type": "code",
   "execution_count": 20,
   "id": "7fe4dc68",
   "metadata": {},
   "outputs": [
    {
     "name": "stdout",
     "output_type": "stream",
     "text": [
      "2.76 percent of our data are missing from our data set.\n",
      "That is to break it down, our dataset has 19821 rows and 14 columns.\n",
      "8 out of the 14 rows have at least a missing value.\n",
      "The total rows with at least a missing value is 548, which is about 2.775 percent of the total number of rows.\n",
      "So, we would be dropping these 548 as they represent less than 5 percent of our dataset and not discarding them might skew our analytical process.\n"
     ]
    }
   ],
   "source": [
    "print((f'{percent} percent of our data are missing from our data set.\\nThat is to break it down, our dataset has {kpmg_transactions.shape[0]} rows and {kpmg_transactions.shape[1]} columns.\\n8 out of the 14 rows have at least a missing value.\\nThe total rows with at least a missing value is {missing_values}, which is about 2.775 percent of the total number of rows.\\nSo, we would be dropping these {missing_values} as they represent less than 5 percent of our dataset and not discarding them might skew our analytical process.') )"
   ]
  },
  {
   "cell_type": "markdown",
   "id": "c8311199",
   "metadata": {},
   "source": [
    "### Dropping Missing Values"
   ]
  },
  {
   "cell_type": "code",
   "execution_count": 21,
   "id": "db7af7cf",
   "metadata": {},
   "outputs": [],
   "source": [
    "kpmg_transactions.dropna(inplace = True)"
   ]
  },
  {
   "cell_type": "code",
   "execution_count": 19,
   "id": "ec83ceb4",
   "metadata": {
    "scrolled": true
   },
   "outputs": [
    {
     "data": {
      "text/plain": [
       "(19821, 14)"
      ]
     },
     "execution_count": 19,
     "metadata": {},
     "output_type": "execute_result"
    }
   ],
   "source": [
    "kpmg_transactions.shape"
   ]
  },
  {
   "cell_type": "markdown",
   "id": "1b0a6f5c",
   "metadata": {},
   "source": [
    "### Saving Our Dataset"
   ]
  },
  {
   "cell_type": "code",
   "execution_count": 23,
   "id": "bd62e0b5",
   "metadata": {},
   "outputs": [],
   "source": [
    "kpmg_transactions.to_csv('kpmg_transactions.csv', index = False)"
   ]
  },
  {
   "cell_type": "code",
   "execution_count": null,
   "id": "f5211491",
   "metadata": {},
   "outputs": [],
   "source": []
  },
  {
   "cell_type": "markdown",
   "id": "5f1dd436",
   "metadata": {},
   "source": [
    "#  new_customer_List"
   ]
  },
  {
   "cell_type": "code",
   "execution_count": 24,
   "id": "cdae0bae",
   "metadata": {},
   "outputs": [
    {
     "data": {
      "text/html": [
       "<div>\n",
       "<style scoped>\n",
       "    .dataframe tbody tr th:only-of-type {\n",
       "        vertical-align: middle;\n",
       "    }\n",
       "\n",
       "    .dataframe tbody tr th {\n",
       "        vertical-align: top;\n",
       "    }\n",
       "\n",
       "    .dataframe thead th {\n",
       "        text-align: right;\n",
       "    }\n",
       "</style>\n",
       "<table border=\"1\" class=\"dataframe\">\n",
       "  <thead>\n",
       "    <tr style=\"text-align: right;\">\n",
       "      <th></th>\n",
       "      <th>first_name</th>\n",
       "      <th>last_name</th>\n",
       "      <th>gender</th>\n",
       "      <th>past_3_years_bike_related_purchases</th>\n",
       "      <th>DOB</th>\n",
       "      <th>job_title</th>\n",
       "      <th>job_industry_category</th>\n",
       "      <th>wealth_segment</th>\n",
       "      <th>deceased_indicator</th>\n",
       "      <th>owns_car</th>\n",
       "      <th>tenure</th>\n",
       "      <th>address</th>\n",
       "      <th>postcode</th>\n",
       "      <th>state</th>\n",
       "      <th>country</th>\n",
       "      <th>property_valuation</th>\n",
       "      <th>Rank</th>\n",
       "      <th>Value</th>\n",
       "    </tr>\n",
       "  </thead>\n",
       "  <tbody>\n",
       "    <tr>\n",
       "      <th>0</th>\n",
       "      <td>Chickie</td>\n",
       "      <td>Brister</td>\n",
       "      <td>Male</td>\n",
       "      <td>86</td>\n",
       "      <td>1957-07-12</td>\n",
       "      <td>General Manager</td>\n",
       "      <td>Manufacturing</td>\n",
       "      <td>Mass Customer</td>\n",
       "      <td>N</td>\n",
       "      <td>Yes</td>\n",
       "      <td>14</td>\n",
       "      <td>45 Shopko Center</td>\n",
       "      <td>4500</td>\n",
       "      <td>QLD</td>\n",
       "      <td>Australia</td>\n",
       "      <td>6</td>\n",
       "      <td>1</td>\n",
       "      <td>1.718750</td>\n",
       "    </tr>\n",
       "    <tr>\n",
       "      <th>1</th>\n",
       "      <td>Morly</td>\n",
       "      <td>Genery</td>\n",
       "      <td>Male</td>\n",
       "      <td>69</td>\n",
       "      <td>1970-03-22</td>\n",
       "      <td>Structural Engineer</td>\n",
       "      <td>Property</td>\n",
       "      <td>Mass Customer</td>\n",
       "      <td>N</td>\n",
       "      <td>No</td>\n",
       "      <td>16</td>\n",
       "      <td>14 Mccormick Park</td>\n",
       "      <td>2113</td>\n",
       "      <td>NSW</td>\n",
       "      <td>Australia</td>\n",
       "      <td>11</td>\n",
       "      <td>1</td>\n",
       "      <td>1.718750</td>\n",
       "    </tr>\n",
       "    <tr>\n",
       "      <th>2</th>\n",
       "      <td>Ardelis</td>\n",
       "      <td>Forrester</td>\n",
       "      <td>Female</td>\n",
       "      <td>10</td>\n",
       "      <td>1974-08-28</td>\n",
       "      <td>Senior Cost Accountant</td>\n",
       "      <td>Financial Services</td>\n",
       "      <td>Affluent Customer</td>\n",
       "      <td>N</td>\n",
       "      <td>No</td>\n",
       "      <td>10</td>\n",
       "      <td>5 Colorado Crossing</td>\n",
       "      <td>3505</td>\n",
       "      <td>VIC</td>\n",
       "      <td>Australia</td>\n",
       "      <td>5</td>\n",
       "      <td>1</td>\n",
       "      <td>1.718750</td>\n",
       "    </tr>\n",
       "    <tr>\n",
       "      <th>3</th>\n",
       "      <td>Lucine</td>\n",
       "      <td>Stutt</td>\n",
       "      <td>Female</td>\n",
       "      <td>64</td>\n",
       "      <td>1979-01-28</td>\n",
       "      <td>Account Representative III</td>\n",
       "      <td>Manufacturing</td>\n",
       "      <td>Affluent Customer</td>\n",
       "      <td>N</td>\n",
       "      <td>Yes</td>\n",
       "      <td>5</td>\n",
       "      <td>207 Annamark Plaza</td>\n",
       "      <td>4814</td>\n",
       "      <td>QLD</td>\n",
       "      <td>Australia</td>\n",
       "      <td>1</td>\n",
       "      <td>4</td>\n",
       "      <td>1.703125</td>\n",
       "    </tr>\n",
       "    <tr>\n",
       "      <th>4</th>\n",
       "      <td>Melinda</td>\n",
       "      <td>Hadlee</td>\n",
       "      <td>Female</td>\n",
       "      <td>34</td>\n",
       "      <td>1965-09-21</td>\n",
       "      <td>Financial Analyst</td>\n",
       "      <td>Financial Services</td>\n",
       "      <td>Affluent Customer</td>\n",
       "      <td>N</td>\n",
       "      <td>No</td>\n",
       "      <td>19</td>\n",
       "      <td>115 Montana Place</td>\n",
       "      <td>2093</td>\n",
       "      <td>NSW</td>\n",
       "      <td>Australia</td>\n",
       "      <td>9</td>\n",
       "      <td>4</td>\n",
       "      <td>1.703125</td>\n",
       "    </tr>\n",
       "  </tbody>\n",
       "</table>\n",
       "</div>"
      ],
      "text/plain": [
       "  first_name  last_name  gender  past_3_years_bike_related_purchases  \\\n",
       "0    Chickie    Brister    Male                                   86   \n",
       "1      Morly     Genery    Male                                   69   \n",
       "2    Ardelis  Forrester  Female                                   10   \n",
       "3     Lucine      Stutt  Female                                   64   \n",
       "4    Melinda     Hadlee  Female                                   34   \n",
       "\n",
       "         DOB                   job_title job_industry_category  \\\n",
       "0 1957-07-12             General Manager         Manufacturing   \n",
       "1 1970-03-22         Structural Engineer              Property   \n",
       "2 1974-08-28      Senior Cost Accountant    Financial Services   \n",
       "3 1979-01-28  Account Representative III         Manufacturing   \n",
       "4 1965-09-21           Financial Analyst    Financial Services   \n",
       "\n",
       "      wealth_segment deceased_indicator owns_car  tenure              address  \\\n",
       "0      Mass Customer                  N      Yes      14     45 Shopko Center   \n",
       "1      Mass Customer                  N       No      16    14 Mccormick Park   \n",
       "2  Affluent Customer                  N       No      10  5 Colorado Crossing   \n",
       "3  Affluent Customer                  N      Yes       5   207 Annamark Plaza   \n",
       "4  Affluent Customer                  N       No      19    115 Montana Place   \n",
       "\n",
       "   postcode state    country  property_valuation  Rank     Value  \n",
       "0      4500   QLD  Australia                   6     1  1.718750  \n",
       "1      2113   NSW  Australia                  11     1  1.718750  \n",
       "2      3505   VIC  Australia                   5     1  1.718750  \n",
       "3      4814   QLD  Australia                   1     4  1.703125  \n",
       "4      2093   NSW  Australia                   9     4  1.703125  "
      ]
     },
     "execution_count": 24,
     "metadata": {},
     "output_type": "execute_result"
    }
   ],
   "source": [
    "new_customer_List.head()"
   ]
  },
  {
   "cell_type": "markdown",
   "id": "358e6e2c",
   "metadata": {},
   "source": [
    "#### Checking Dataset Rows And Columns"
   ]
  },
  {
   "cell_type": "code",
   "execution_count": 25,
   "id": "14d4a66f",
   "metadata": {},
   "outputs": [
    {
     "data": {
      "text/plain": [
       "(1000, 18)"
      ]
     },
     "execution_count": 25,
     "metadata": {},
     "output_type": "execute_result"
    }
   ],
   "source": [
    "new_customer_List.shape"
   ]
  },
  {
   "cell_type": "markdown",
   "id": "d1316639",
   "metadata": {},
   "source": [
    "### Data Cleaning And Transformation"
   ]
  },
  {
   "cell_type": "markdown",
   "id": "f53622ba",
   "metadata": {},
   "source": [
    "### Checking For Duplicates"
   ]
  },
  {
   "cell_type": "code",
   "execution_count": 26,
   "id": "6ab61034",
   "metadata": {},
   "outputs": [
    {
     "data": {
      "text/plain": [
       "0"
      ]
     },
     "execution_count": 26,
     "metadata": {},
     "output_type": "execute_result"
    }
   ],
   "source": [
    "new_customer_List.duplicated().sum()"
   ]
  },
  {
   "cell_type": "markdown",
   "id": "c7fc9131",
   "metadata": {},
   "source": [
    "### Number Of Missing Rows From Every Column With Missing Data"
   ]
  },
  {
   "cell_type": "code",
   "execution_count": 27,
   "id": "193aa319",
   "metadata": {},
   "outputs": [
    {
     "data": {
      "text/plain": [
       "last_name                 29\n",
       "DOB                       17\n",
       "job_title                106\n",
       "job_industry_category    165\n",
       "dtype: int64"
      ]
     },
     "execution_count": 27,
     "metadata": {},
     "output_type": "execute_result"
    }
   ],
   "source": [
    "new_customer_List.isnull().sum()[new_customer_List.isnull().sum() > 0]"
   ]
  },
  {
   "cell_type": "markdown",
   "id": "19e48d3b",
   "metadata": {},
   "source": [
    "### Percentage Of Missing Rows From Every Column With Missing Data"
   ]
  },
  {
   "cell_type": "code",
   "execution_count": 28,
   "id": "08b92cf6",
   "metadata": {},
   "outputs": [],
   "source": [
    "rows = new_customer_List.shape[0]\n",
    "null_rows = new_customer_List[new_customer_List.isnull().any(axis = 1)].shape[0]"
   ]
  },
  {
   "cell_type": "code",
   "execution_count": 29,
   "id": "edab0828",
   "metadata": {},
   "outputs": [
    {
     "data": {
      "text/plain": [
       "last_name                 2.9\n",
       "DOB                       1.7\n",
       "job_title                10.6\n",
       "job_industry_category    16.5\n",
       "dtype: float64"
      ]
     },
     "execution_count": 29,
     "metadata": {},
     "output_type": "execute_result"
    }
   ],
   "source": [
    "new_customer_List.isnull().sum()[(new_customer_List.isnull().sum()) > 0]/rows*100"
   ]
  },
  {
   "cell_type": "markdown",
   "id": "94021d00",
   "metadata": {},
   "source": [
    "### Percentage Of The Total Missing Values From Our Dataset"
   ]
  },
  {
   "cell_type": "code",
   "execution_count": 30,
   "id": "e88655ac",
   "metadata": {},
   "outputs": [
    {
     "data": {
      "text/plain": [
       "285"
      ]
     },
     "execution_count": 30,
     "metadata": {},
     "output_type": "execute_result"
    }
   ],
   "source": [
    "null_rows"
   ]
  },
  {
   "cell_type": "code",
   "execution_count": 31,
   "id": "237ab2f6",
   "metadata": {},
   "outputs": [],
   "source": [
    "percent = (null_rows/rows)*100\n",
    "percent = round(percent,2)"
   ]
  },
  {
   "cell_type": "code",
   "execution_count": 32,
   "id": "faa31272",
   "metadata": {},
   "outputs": [
    {
     "name": "stdout",
     "output_type": "stream",
     "text": [
      "28.5 percent of our data are missing from our data set.\n",
      "That is to break it down, our dataset has 1000 rows and 18 columns.\n",
      "4 out of the 18 rows have at least a missing value.\n",
      "The total rows with at least a missing value is 285, which is about 28.5 percent of the total number of rows.\n",
      "So, we would be dropping these 285 rows as it might skew our analytical process.\n"
     ]
    }
   ],
   "source": [
    "print((f'{percent} percent of our data are missing from our data set.\\nThat is to break it down, our dataset has {new_customer_List.shape[0]} rows and {new_customer_List.shape[1]} columns.\\n4 out of the 18 rows have at least a missing value.\\nThe total rows with at least a missing value is {null_rows}, which is about 28.5 percent of the total number of rows.\\nSo, we would be dropping these {null_rows} rows as it might skew our analytical process.') )"
   ]
  },
  {
   "cell_type": "markdown",
   "id": "4c072405",
   "metadata": {},
   "source": [
    "### Dropping Missing Values"
   ]
  },
  {
   "cell_type": "code",
   "execution_count": 33,
   "id": "64a250f2",
   "metadata": {},
   "outputs": [],
   "source": [
    "new_customer_List.dropna(inplace = True)"
   ]
  },
  {
   "cell_type": "code",
   "execution_count": 34,
   "id": "1d6c6b8e",
   "metadata": {},
   "outputs": [
    {
     "data": {
      "text/plain": [
       "(715, 18)"
      ]
     },
     "execution_count": 34,
     "metadata": {},
     "output_type": "execute_result"
    }
   ],
   "source": [
    "new_customer_List.shape"
   ]
  },
  {
   "cell_type": "markdown",
   "id": "a17f5e21",
   "metadata": {},
   "source": [
    "### Creating The Age Column"
   ]
  },
  {
   "cell_type": "code",
   "execution_count": 35,
   "id": "8b3b0f10",
   "metadata": {},
   "outputs": [],
   "source": [
    "age = new_customer_List['DOB'].apply(lambda x:2017 - x.year)\n",
    "new_customer_List.insert(5, 'age', age)"
   ]
  },
  {
   "cell_type": "code",
   "execution_count": 36,
   "id": "eea80022",
   "metadata": {},
   "outputs": [
    {
     "data": {
      "text/html": [
       "<div>\n",
       "<style scoped>\n",
       "    .dataframe tbody tr th:only-of-type {\n",
       "        vertical-align: middle;\n",
       "    }\n",
       "\n",
       "    .dataframe tbody tr th {\n",
       "        vertical-align: top;\n",
       "    }\n",
       "\n",
       "    .dataframe thead th {\n",
       "        text-align: right;\n",
       "    }\n",
       "</style>\n",
       "<table border=\"1\" class=\"dataframe\">\n",
       "  <thead>\n",
       "    <tr style=\"text-align: right;\">\n",
       "      <th></th>\n",
       "      <th>first_name</th>\n",
       "      <th>last_name</th>\n",
       "      <th>gender</th>\n",
       "      <th>past_3_years_bike_related_purchases</th>\n",
       "      <th>DOB</th>\n",
       "      <th>age</th>\n",
       "      <th>job_title</th>\n",
       "      <th>job_industry_category</th>\n",
       "      <th>wealth_segment</th>\n",
       "      <th>deceased_indicator</th>\n",
       "      <th>owns_car</th>\n",
       "      <th>tenure</th>\n",
       "      <th>address</th>\n",
       "      <th>postcode</th>\n",
       "      <th>state</th>\n",
       "      <th>country</th>\n",
       "      <th>property_valuation</th>\n",
       "      <th>Rank</th>\n",
       "      <th>Value</th>\n",
       "    </tr>\n",
       "  </thead>\n",
       "  <tbody>\n",
       "    <tr>\n",
       "      <th>0</th>\n",
       "      <td>Chickie</td>\n",
       "      <td>Brister</td>\n",
       "      <td>Male</td>\n",
       "      <td>86</td>\n",
       "      <td>1957-07-12</td>\n",
       "      <td>60</td>\n",
       "      <td>General Manager</td>\n",
       "      <td>Manufacturing</td>\n",
       "      <td>Mass Customer</td>\n",
       "      <td>N</td>\n",
       "      <td>Yes</td>\n",
       "      <td>14</td>\n",
       "      <td>45 Shopko Center</td>\n",
       "      <td>4500</td>\n",
       "      <td>QLD</td>\n",
       "      <td>Australia</td>\n",
       "      <td>6</td>\n",
       "      <td>1</td>\n",
       "      <td>1.718750</td>\n",
       "    </tr>\n",
       "    <tr>\n",
       "      <th>1</th>\n",
       "      <td>Morly</td>\n",
       "      <td>Genery</td>\n",
       "      <td>Male</td>\n",
       "      <td>69</td>\n",
       "      <td>1970-03-22</td>\n",
       "      <td>47</td>\n",
       "      <td>Structural Engineer</td>\n",
       "      <td>Property</td>\n",
       "      <td>Mass Customer</td>\n",
       "      <td>N</td>\n",
       "      <td>No</td>\n",
       "      <td>16</td>\n",
       "      <td>14 Mccormick Park</td>\n",
       "      <td>2113</td>\n",
       "      <td>NSW</td>\n",
       "      <td>Australia</td>\n",
       "      <td>11</td>\n",
       "      <td>1</td>\n",
       "      <td>1.718750</td>\n",
       "    </tr>\n",
       "    <tr>\n",
       "      <th>2</th>\n",
       "      <td>Ardelis</td>\n",
       "      <td>Forrester</td>\n",
       "      <td>Female</td>\n",
       "      <td>10</td>\n",
       "      <td>1974-08-28</td>\n",
       "      <td>43</td>\n",
       "      <td>Senior Cost Accountant</td>\n",
       "      <td>Financial Services</td>\n",
       "      <td>Affluent Customer</td>\n",
       "      <td>N</td>\n",
       "      <td>No</td>\n",
       "      <td>10</td>\n",
       "      <td>5 Colorado Crossing</td>\n",
       "      <td>3505</td>\n",
       "      <td>VIC</td>\n",
       "      <td>Australia</td>\n",
       "      <td>5</td>\n",
       "      <td>1</td>\n",
       "      <td>1.718750</td>\n",
       "    </tr>\n",
       "    <tr>\n",
       "      <th>3</th>\n",
       "      <td>Lucine</td>\n",
       "      <td>Stutt</td>\n",
       "      <td>Female</td>\n",
       "      <td>64</td>\n",
       "      <td>1979-01-28</td>\n",
       "      <td>38</td>\n",
       "      <td>Account Representative III</td>\n",
       "      <td>Manufacturing</td>\n",
       "      <td>Affluent Customer</td>\n",
       "      <td>N</td>\n",
       "      <td>Yes</td>\n",
       "      <td>5</td>\n",
       "      <td>207 Annamark Plaza</td>\n",
       "      <td>4814</td>\n",
       "      <td>QLD</td>\n",
       "      <td>Australia</td>\n",
       "      <td>1</td>\n",
       "      <td>4</td>\n",
       "      <td>1.703125</td>\n",
       "    </tr>\n",
       "    <tr>\n",
       "      <th>4</th>\n",
       "      <td>Melinda</td>\n",
       "      <td>Hadlee</td>\n",
       "      <td>Female</td>\n",
       "      <td>34</td>\n",
       "      <td>1965-09-21</td>\n",
       "      <td>52</td>\n",
       "      <td>Financial Analyst</td>\n",
       "      <td>Financial Services</td>\n",
       "      <td>Affluent Customer</td>\n",
       "      <td>N</td>\n",
       "      <td>No</td>\n",
       "      <td>19</td>\n",
       "      <td>115 Montana Place</td>\n",
       "      <td>2093</td>\n",
       "      <td>NSW</td>\n",
       "      <td>Australia</td>\n",
       "      <td>9</td>\n",
       "      <td>4</td>\n",
       "      <td>1.703125</td>\n",
       "    </tr>\n",
       "  </tbody>\n",
       "</table>\n",
       "</div>"
      ],
      "text/plain": [
       "  first_name  last_name  gender  past_3_years_bike_related_purchases  \\\n",
       "0    Chickie    Brister    Male                                   86   \n",
       "1      Morly     Genery    Male                                   69   \n",
       "2    Ardelis  Forrester  Female                                   10   \n",
       "3     Lucine      Stutt  Female                                   64   \n",
       "4    Melinda     Hadlee  Female                                   34   \n",
       "\n",
       "         DOB  age                   job_title job_industry_category  \\\n",
       "0 1957-07-12   60             General Manager         Manufacturing   \n",
       "1 1970-03-22   47         Structural Engineer              Property   \n",
       "2 1974-08-28   43      Senior Cost Accountant    Financial Services   \n",
       "3 1979-01-28   38  Account Representative III         Manufacturing   \n",
       "4 1965-09-21   52           Financial Analyst    Financial Services   \n",
       "\n",
       "      wealth_segment deceased_indicator owns_car  tenure              address  \\\n",
       "0      Mass Customer                  N      Yes      14     45 Shopko Center   \n",
       "1      Mass Customer                  N       No      16    14 Mccormick Park   \n",
       "2  Affluent Customer                  N       No      10  5 Colorado Crossing   \n",
       "3  Affluent Customer                  N      Yes       5   207 Annamark Plaza   \n",
       "4  Affluent Customer                  N       No      19    115 Montana Place   \n",
       "\n",
       "   postcode state    country  property_valuation  Rank     Value  \n",
       "0      4500   QLD  Australia                   6     1  1.718750  \n",
       "1      2113   NSW  Australia                  11     1  1.718750  \n",
       "2      3505   VIC  Australia                   5     1  1.718750  \n",
       "3      4814   QLD  Australia                   1     4  1.703125  \n",
       "4      2093   NSW  Australia                   9     4  1.703125  "
      ]
     },
     "execution_count": 36,
     "metadata": {},
     "output_type": "execute_result"
    }
   ],
   "source": [
    "new_customer_List.head()"
   ]
  },
  {
   "cell_type": "markdown",
   "id": "6b146e76",
   "metadata": {},
   "source": [
    "### Data Types Of The Columns"
   ]
  },
  {
   "cell_type": "code",
   "execution_count": 37,
   "id": "6b5a4adb",
   "metadata": {},
   "outputs": [
    {
     "data": {
      "text/plain": [
       "first_name                                     object\n",
       "last_name                                      object\n",
       "gender                                         object\n",
       "past_3_years_bike_related_purchases             int64\n",
       "DOB                                    datetime64[ns]\n",
       "age                                             int64\n",
       "job_title                                      object\n",
       "job_industry_category                          object\n",
       "wealth_segment                                 object\n",
       "deceased_indicator                             object\n",
       "owns_car                                       object\n",
       "tenure                                          int64\n",
       "address                                        object\n",
       "postcode                                        int64\n",
       "state                                          object\n",
       "country                                        object\n",
       "property_valuation                              int64\n",
       "Rank                                            int64\n",
       "Value                                         float64\n",
       "dtype: object"
      ]
     },
     "execution_count": 37,
     "metadata": {},
     "output_type": "execute_result"
    }
   ],
   "source": [
    "new_customer_List.dtypes"
   ]
  },
  {
   "cell_type": "code",
   "execution_count": null,
   "id": "7f302534",
   "metadata": {},
   "outputs": [],
   "source": []
  },
  {
   "cell_type": "markdown",
   "id": "746d5ccf",
   "metadata": {},
   "source": [
    "### Saving Our Dataset"
   ]
  },
  {
   "cell_type": "code",
   "execution_count": 38,
   "id": "990714fc",
   "metadata": {},
   "outputs": [],
   "source": [
    "new_customer_List.to_csv('kpmg_new_customers.csv', index = False)"
   ]
  },
  {
   "cell_type": "code",
   "execution_count": null,
   "id": "1b5e7ccf",
   "metadata": {},
   "outputs": [],
   "source": []
  },
  {
   "cell_type": "markdown",
   "id": "0ea7eefc",
   "metadata": {},
   "source": [
    "# customerdemographic"
   ]
  },
  {
   "cell_type": "code",
   "execution_count": 40,
   "id": "371bdc25",
   "metadata": {
    "scrolled": false
   },
   "outputs": [
    {
     "data": {
      "text/html": [
       "<div>\n",
       "<style scoped>\n",
       "    .dataframe tbody tr th:only-of-type {\n",
       "        vertical-align: middle;\n",
       "    }\n",
       "\n",
       "    .dataframe tbody tr th {\n",
       "        vertical-align: top;\n",
       "    }\n",
       "\n",
       "    .dataframe thead th {\n",
       "        text-align: right;\n",
       "    }\n",
       "</style>\n",
       "<table border=\"1\" class=\"dataframe\">\n",
       "  <thead>\n",
       "    <tr style=\"text-align: right;\">\n",
       "      <th></th>\n",
       "      <th>customer_id</th>\n",
       "      <th>first_name</th>\n",
       "      <th>last_name</th>\n",
       "      <th>gender</th>\n",
       "      <th>past_3_years_bike_related_purchases</th>\n",
       "      <th>DOB</th>\n",
       "      <th>job_title</th>\n",
       "      <th>job_industry_category</th>\n",
       "      <th>wealth_segment</th>\n",
       "      <th>deceased_indicator</th>\n",
       "      <th>default</th>\n",
       "      <th>owns_car</th>\n",
       "      <th>tenure</th>\n",
       "    </tr>\n",
       "  </thead>\n",
       "  <tbody>\n",
       "    <tr>\n",
       "      <th>0</th>\n",
       "      <td>1</td>\n",
       "      <td>Laraine</td>\n",
       "      <td>Medendorp</td>\n",
       "      <td>F</td>\n",
       "      <td>93</td>\n",
       "      <td>1953-10-12</td>\n",
       "      <td>Executive Secretary</td>\n",
       "      <td>Health</td>\n",
       "      <td>Mass Customer</td>\n",
       "      <td>N</td>\n",
       "      <td>\"'</td>\n",
       "      <td>Yes</td>\n",
       "      <td>11.0</td>\n",
       "    </tr>\n",
       "    <tr>\n",
       "      <th>1</th>\n",
       "      <td>2</td>\n",
       "      <td>Eli</td>\n",
       "      <td>Bockman</td>\n",
       "      <td>Male</td>\n",
       "      <td>81</td>\n",
       "      <td>1980-12-16</td>\n",
       "      <td>Administrative Officer</td>\n",
       "      <td>Financial Services</td>\n",
       "      <td>Mass Customer</td>\n",
       "      <td>N</td>\n",
       "      <td>&lt;script&gt;alert('hi')&lt;/script&gt;</td>\n",
       "      <td>Yes</td>\n",
       "      <td>16.0</td>\n",
       "    </tr>\n",
       "    <tr>\n",
       "      <th>2</th>\n",
       "      <td>3</td>\n",
       "      <td>Arlin</td>\n",
       "      <td>Dearle</td>\n",
       "      <td>Male</td>\n",
       "      <td>61</td>\n",
       "      <td>1954-01-20</td>\n",
       "      <td>Recruiting Manager</td>\n",
       "      <td>Property</td>\n",
       "      <td>Mass Customer</td>\n",
       "      <td>N</td>\n",
       "      <td>2018-02-01 00:00:00</td>\n",
       "      <td>Yes</td>\n",
       "      <td>15.0</td>\n",
       "    </tr>\n",
       "    <tr>\n",
       "      <th>3</th>\n",
       "      <td>4</td>\n",
       "      <td>Talbot</td>\n",
       "      <td>NaN</td>\n",
       "      <td>Male</td>\n",
       "      <td>33</td>\n",
       "      <td>1961-10-03</td>\n",
       "      <td>NaN</td>\n",
       "      <td>IT</td>\n",
       "      <td>Mass Customer</td>\n",
       "      <td>N</td>\n",
       "      <td>() { _; } &gt;_[$($())] { touch /tmp/blns.shellsh...</td>\n",
       "      <td>No</td>\n",
       "      <td>7.0</td>\n",
       "    </tr>\n",
       "    <tr>\n",
       "      <th>4</th>\n",
       "      <td>5</td>\n",
       "      <td>Sheila-kathryn</td>\n",
       "      <td>Calton</td>\n",
       "      <td>Female</td>\n",
       "      <td>56</td>\n",
       "      <td>1977-05-13</td>\n",
       "      <td>Senior Editor</td>\n",
       "      <td>NaN</td>\n",
       "      <td>Affluent Customer</td>\n",
       "      <td>N</td>\n",
       "      <td>NIL</td>\n",
       "      <td>Yes</td>\n",
       "      <td>8.0</td>\n",
       "    </tr>\n",
       "  </tbody>\n",
       "</table>\n",
       "</div>"
      ],
      "text/plain": [
       "   customer_id      first_name  last_name  gender  \\\n",
       "0            1         Laraine  Medendorp       F   \n",
       "1            2             Eli    Bockman    Male   \n",
       "2            3           Arlin     Dearle    Male   \n",
       "3            4          Talbot        NaN    Male   \n",
       "4            5  Sheila-kathryn     Calton  Female   \n",
       "\n",
       "   past_3_years_bike_related_purchases        DOB               job_title  \\\n",
       "0                                   93 1953-10-12     Executive Secretary   \n",
       "1                                   81 1980-12-16  Administrative Officer   \n",
       "2                                   61 1954-01-20      Recruiting Manager   \n",
       "3                                   33 1961-10-03                     NaN   \n",
       "4                                   56 1977-05-13           Senior Editor   \n",
       "\n",
       "  job_industry_category     wealth_segment deceased_indicator  \\\n",
       "0                Health      Mass Customer                  N   \n",
       "1    Financial Services      Mass Customer                  N   \n",
       "2              Property      Mass Customer                  N   \n",
       "3                    IT      Mass Customer                  N   \n",
       "4                   NaN  Affluent Customer                  N   \n",
       "\n",
       "                                             default owns_car  tenure  \n",
       "0                                                 \"'      Yes    11.0  \n",
       "1                       <script>alert('hi')</script>      Yes    16.0  \n",
       "2                                2018-02-01 00:00:00      Yes    15.0  \n",
       "3  () { _; } >_[$($())] { touch /tmp/blns.shellsh...       No     7.0  \n",
       "4                                                NIL      Yes     8.0  "
      ]
     },
     "execution_count": 40,
     "metadata": {},
     "output_type": "execute_result"
    }
   ],
   "source": [
    "customerdemographic.head()"
   ]
  },
  {
   "cell_type": "markdown",
   "id": "93f3eee7",
   "metadata": {},
   "source": [
    "#### Dataset Rows And Columns"
   ]
  },
  {
   "cell_type": "code",
   "execution_count": 41,
   "id": "df31f9b9",
   "metadata": {},
   "outputs": [
    {
     "data": {
      "text/plain": [
       "(4000, 13)"
      ]
     },
     "execution_count": 41,
     "metadata": {},
     "output_type": "execute_result"
    }
   ],
   "source": [
    "customerdemographic.shape"
   ]
  },
  {
   "cell_type": "markdown",
   "id": "eed12c8f",
   "metadata": {},
   "source": [
    "### Data Cleaning And Transformation"
   ]
  },
  {
   "cell_type": "code",
   "execution_count": 42,
   "id": "a3ee8cdb",
   "metadata": {},
   "outputs": [
    {
     "data": {
      "text/plain": [
       "0"
      ]
     },
     "execution_count": 42,
     "metadata": {},
     "output_type": "execute_result"
    }
   ],
   "source": [
    "customerdemographic.duplicated().sum()"
   ]
  },
  {
   "cell_type": "markdown",
   "id": "63b2711e",
   "metadata": {},
   "source": [
    "### Dropping Irrelevant Rows And Columns"
   ]
  },
  {
   "cell_type": "markdown",
   "id": "d29d581c",
   "metadata": {},
   "source": [
    "#### Dropping The Default Column"
   ]
  },
  {
   "cell_type": "code",
   "execution_count": 43,
   "id": "bc2c3e67",
   "metadata": {},
   "outputs": [],
   "source": [
    "del customerdemographic['default']\n",
    "#customerdemographic.drop('default', axis =1)"
   ]
  },
  {
   "cell_type": "markdown",
   "id": "93912e2e",
   "metadata": {},
   "source": [
    "#### Dropping Rows With Deceased Indicator as Yes"
   ]
  },
  {
   "cell_type": "code",
   "execution_count": 44,
   "id": "56062aed",
   "metadata": {},
   "outputs": [
    {
     "data": {
      "text/html": [
       "<div>\n",
       "<style scoped>\n",
       "    .dataframe tbody tr th:only-of-type {\n",
       "        vertical-align: middle;\n",
       "    }\n",
       "\n",
       "    .dataframe tbody tr th {\n",
       "        vertical-align: top;\n",
       "    }\n",
       "\n",
       "    .dataframe thead th {\n",
       "        text-align: right;\n",
       "    }\n",
       "</style>\n",
       "<table border=\"1\" class=\"dataframe\">\n",
       "  <thead>\n",
       "    <tr style=\"text-align: right;\">\n",
       "      <th></th>\n",
       "      <th>customer_id</th>\n",
       "      <th>first_name</th>\n",
       "      <th>last_name</th>\n",
       "      <th>gender</th>\n",
       "      <th>past_3_years_bike_related_purchases</th>\n",
       "      <th>DOB</th>\n",
       "      <th>job_title</th>\n",
       "      <th>job_industry_category</th>\n",
       "      <th>wealth_segment</th>\n",
       "      <th>deceased_indicator</th>\n",
       "      <th>owns_car</th>\n",
       "      <th>tenure</th>\n",
       "    </tr>\n",
       "  </thead>\n",
       "  <tbody>\n",
       "    <tr>\n",
       "      <th>752</th>\n",
       "      <td>753</td>\n",
       "      <td>Josy</td>\n",
       "      <td>St. Quentin</td>\n",
       "      <td>Female</td>\n",
       "      <td>82</td>\n",
       "      <td>1970-03-07</td>\n",
       "      <td>Food Chemist</td>\n",
       "      <td>Health</td>\n",
       "      <td>Affluent Customer</td>\n",
       "      <td>Y</td>\n",
       "      <td>Yes</td>\n",
       "      <td>6.0</td>\n",
       "    </tr>\n",
       "    <tr>\n",
       "      <th>3789</th>\n",
       "      <td>3790</td>\n",
       "      <td>Kurtis</td>\n",
       "      <td>Morson</td>\n",
       "      <td>Male</td>\n",
       "      <td>91</td>\n",
       "      <td>1959-05-31</td>\n",
       "      <td>Senior Editor</td>\n",
       "      <td>Retail</td>\n",
       "      <td>Mass Customer</td>\n",
       "      <td>Y</td>\n",
       "      <td>Yes</td>\n",
       "      <td>9.0</td>\n",
       "    </tr>\n",
       "  </tbody>\n",
       "</table>\n",
       "</div>"
      ],
      "text/plain": [
       "      customer_id first_name    last_name  gender  \\\n",
       "752           753       Josy  St. Quentin  Female   \n",
       "3789         3790     Kurtis       Morson    Male   \n",
       "\n",
       "      past_3_years_bike_related_purchases        DOB      job_title  \\\n",
       "752                                    82 1970-03-07   Food Chemist   \n",
       "3789                                   91 1959-05-31  Senior Editor   \n",
       "\n",
       "     job_industry_category     wealth_segment deceased_indicator owns_car  \\\n",
       "752                 Health  Affluent Customer                  Y      Yes   \n",
       "3789                Retail      Mass Customer                  Y      Yes   \n",
       "\n",
       "      tenure  \n",
       "752      6.0  \n",
       "3789     9.0  "
      ]
     },
     "execution_count": 44,
     "metadata": {},
     "output_type": "execute_result"
    }
   ],
   "source": [
    "customerdemographic[customerdemographic['deceased_indicator']== 'Y']"
   ]
  },
  {
   "cell_type": "code",
   "execution_count": 45,
   "id": "4c03ac48",
   "metadata": {},
   "outputs": [],
   "source": [
    "#Dropping The Above Rows\n",
    "\n",
    "customerdemographic.drop([752, 3789], inplace = True)"
   ]
  },
  {
   "cell_type": "markdown",
   "id": "c62a1410",
   "metadata": {},
   "source": [
    "#### Dropping Outliers"
   ]
  },
  {
   "cell_type": "code",
   "execution_count": 62,
   "id": "8adddbe5",
   "metadata": {},
   "outputs": [
    {
     "data": {
      "text/html": [
       "<div>\n",
       "<style scoped>\n",
       "    .dataframe tbody tr th:only-of-type {\n",
       "        vertical-align: middle;\n",
       "    }\n",
       "\n",
       "    .dataframe tbody tr th {\n",
       "        vertical-align: top;\n",
       "    }\n",
       "\n",
       "    .dataframe thead th {\n",
       "        text-align: right;\n",
       "    }\n",
       "</style>\n",
       "<table border=\"1\" class=\"dataframe\">\n",
       "  <thead>\n",
       "    <tr style=\"text-align: right;\">\n",
       "      <th></th>\n",
       "      <th>customer_id</th>\n",
       "      <th>first_name</th>\n",
       "      <th>last_name</th>\n",
       "      <th>gender</th>\n",
       "      <th>past_3_years_bike_related_purchases</th>\n",
       "      <th>DOB</th>\n",
       "      <th>age</th>\n",
       "      <th>job_title</th>\n",
       "      <th>job_industry_category</th>\n",
       "      <th>wealth_segment</th>\n",
       "      <th>deceased_indicator</th>\n",
       "      <th>owns_car</th>\n",
       "      <th>tenure</th>\n",
       "    </tr>\n",
       "  </thead>\n",
       "  <tbody>\n",
       "    <tr>\n",
       "      <th>33</th>\n",
       "      <td>34</td>\n",
       "      <td>Jephthah</td>\n",
       "      <td>Bachmann</td>\n",
       "      <td>U</td>\n",
       "      <td>59</td>\n",
       "      <td>1843-12-21</td>\n",
       "      <td>174</td>\n",
       "      <td>Legal Assistant</td>\n",
       "      <td>IT</td>\n",
       "      <td>Affluent Customer</td>\n",
       "      <td>N</td>\n",
       "      <td>No</td>\n",
       "      <td>20.0</td>\n",
       "    </tr>\n",
       "    <tr>\n",
       "      <th>719</th>\n",
       "      <td>720</td>\n",
       "      <td>Darrel</td>\n",
       "      <td>Canet</td>\n",
       "      <td>Male</td>\n",
       "      <td>67</td>\n",
       "      <td>1931-10-23</td>\n",
       "      <td>86</td>\n",
       "      <td>Recruiting Manager</td>\n",
       "      <td>Retail</td>\n",
       "      <td>Affluent Customer</td>\n",
       "      <td>N</td>\n",
       "      <td>No</td>\n",
       "      <td>6.0</td>\n",
       "    </tr>\n",
       "  </tbody>\n",
       "</table>\n",
       "</div>"
      ],
      "text/plain": [
       "     customer_id first_name last_name gender  \\\n",
       "33            34   Jephthah  Bachmann      U   \n",
       "719          720     Darrel     Canet   Male   \n",
       "\n",
       "     past_3_years_bike_related_purchases        DOB  age           job_title  \\\n",
       "33                                    59 1843-12-21  174     Legal Assistant   \n",
       "719                                   67 1931-10-23   86  Recruiting Manager   \n",
       "\n",
       "    job_industry_category     wealth_segment deceased_indicator owns_car  \\\n",
       "33                     IT  Affluent Customer                  N       No   \n",
       "719                Retail  Affluent Customer                  N       No   \n",
       "\n",
       "     tenure  \n",
       "33     20.0  \n",
       "719     6.0  "
      ]
     },
     "execution_count": 62,
     "metadata": {},
     "output_type": "execute_result"
    }
   ],
   "source": [
    "customerdemographic.sort_values('age', ascending = False).head(2)"
   ]
  },
  {
   "cell_type": "code",
   "execution_count": 63,
   "id": "37a1972a",
   "metadata": {},
   "outputs": [],
   "source": [
    "#Dropping of the row with the customer of age 174\n",
    "\n",
    "customerdemographic.drop([33], inplace = True)"
   ]
  },
  {
   "cell_type": "code",
   "execution_count": 65,
   "id": "2021b839",
   "metadata": {},
   "outputs": [
    {
     "data": {
      "text/html": [
       "<div>\n",
       "<style scoped>\n",
       "    .dataframe tbody tr th:only-of-type {\n",
       "        vertical-align: middle;\n",
       "    }\n",
       "\n",
       "    .dataframe tbody tr th {\n",
       "        vertical-align: top;\n",
       "    }\n",
       "\n",
       "    .dataframe thead th {\n",
       "        text-align: right;\n",
       "    }\n",
       "</style>\n",
       "<table border=\"1\" class=\"dataframe\">\n",
       "  <thead>\n",
       "    <tr style=\"text-align: right;\">\n",
       "      <th></th>\n",
       "      <th>customer_id</th>\n",
       "      <th>first_name</th>\n",
       "      <th>last_name</th>\n",
       "      <th>gender</th>\n",
       "      <th>past_3_years_bike_related_purchases</th>\n",
       "      <th>DOB</th>\n",
       "      <th>age</th>\n",
       "      <th>job_title</th>\n",
       "      <th>job_industry_category</th>\n",
       "      <th>wealth_segment</th>\n",
       "      <th>deceased_indicator</th>\n",
       "      <th>owns_car</th>\n",
       "      <th>tenure</th>\n",
       "    </tr>\n",
       "  </thead>\n",
       "  <tbody>\n",
       "    <tr>\n",
       "      <th>719</th>\n",
       "      <td>720</td>\n",
       "      <td>Darrel</td>\n",
       "      <td>Canet</td>\n",
       "      <td>Male</td>\n",
       "      <td>67</td>\n",
       "      <td>1931-10-23</td>\n",
       "      <td>86</td>\n",
       "      <td>Recruiting Manager</td>\n",
       "      <td>Retail</td>\n",
       "      <td>Affluent Customer</td>\n",
       "      <td>N</td>\n",
       "      <td>No</td>\n",
       "      <td>6.0</td>\n",
       "    </tr>\n",
       "    <tr>\n",
       "      <th>1091</th>\n",
       "      <td>1092</td>\n",
       "      <td>Katlin</td>\n",
       "      <td>Creddon</td>\n",
       "      <td>Female</td>\n",
       "      <td>56</td>\n",
       "      <td>1935-08-22</td>\n",
       "      <td>82</td>\n",
       "      <td>VP Quality Control</td>\n",
       "      <td>Retail</td>\n",
       "      <td>Mass Customer</td>\n",
       "      <td>N</td>\n",
       "      <td>No</td>\n",
       "      <td>5.0</td>\n",
       "    </tr>\n",
       "  </tbody>\n",
       "</table>\n",
       "</div>"
      ],
      "text/plain": [
       "      customer_id first_name last_name  gender  \\\n",
       "719           720     Darrel     Canet    Male   \n",
       "1091         1092     Katlin   Creddon  Female   \n",
       "\n",
       "      past_3_years_bike_related_purchases        DOB  age           job_title  \\\n",
       "719                                    67 1931-10-23   86  Recruiting Manager   \n",
       "1091                                   56 1935-08-22   82  VP Quality Control   \n",
       "\n",
       "     job_industry_category     wealth_segment deceased_indicator owns_car  \\\n",
       "719                 Retail  Affluent Customer                  N       No   \n",
       "1091                Retail      Mass Customer                  N       No   \n",
       "\n",
       "      tenure  \n",
       "719      6.0  \n",
       "1091     5.0  "
      ]
     },
     "execution_count": 65,
     "metadata": {},
     "output_type": "execute_result"
    }
   ],
   "source": [
    "# Confirming Our maximum customer age again\n",
    "\n",
    "customerdemographic.sort_values('age', ascending = False).head(2)"
   ]
  },
  {
   "cell_type": "code",
   "execution_count": null,
   "id": "c09f4e7e",
   "metadata": {},
   "outputs": [],
   "source": []
  },
  {
   "cell_type": "markdown",
   "id": "e3928b40",
   "metadata": {},
   "source": [
    "### Number Of Missing Rows From Every Column With Missing Data"
   ]
  },
  {
   "cell_type": "code",
   "execution_count": 99,
   "id": "78ca343e",
   "metadata": {},
   "outputs": [
    {
     "data": {
      "text/plain": [
       "last_name                125\n",
       "DOB                       87\n",
       "job_title                506\n",
       "job_industry_category    656\n",
       "default                  302\n",
       "tenure                    87\n",
       "dtype: int64"
      ]
     },
     "execution_count": 99,
     "metadata": {},
     "output_type": "execute_result"
    }
   ],
   "source": [
    "customerdemographic.isnull().sum()[customerdemographic.isnull().sum() > 0]"
   ]
  },
  {
   "cell_type": "markdown",
   "id": "d6e2de71",
   "metadata": {},
   "source": [
    "### Percentage Of Missing Rows From Every Column With Missing Data"
   ]
  },
  {
   "cell_type": "code",
   "execution_count": 47,
   "id": "f19d0486",
   "metadata": {},
   "outputs": [],
   "source": [
    "nulls = customerdemographic[customerdemographic.isnull().any(axis=1)].shape[0]\n",
    "data_rows = customerdemographic.shape[0]"
   ]
  },
  {
   "cell_type": "code",
   "execution_count": 48,
   "id": "32110095",
   "metadata": {},
   "outputs": [
    {
     "data": {
      "text/plain": [
       "last_name                 3.126563\n",
       "DOB                       2.176088\n",
       "job_title                12.656328\n",
       "job_industry_category    16.408204\n",
       "tenure                    2.176088\n",
       "dtype: float64"
      ]
     },
     "execution_count": 48,
     "metadata": {},
     "output_type": "execute_result"
    }
   ],
   "source": [
    "customerdemographic.isnull().sum()[(customerdemographic.isnull().sum()) > 0]/data_rows*100"
   ]
  },
  {
   "cell_type": "markdown",
   "id": "cddccf6f",
   "metadata": {},
   "source": [
    "### Percentage Of The Total Missing Values From Our Dataset"
   ]
  },
  {
   "cell_type": "code",
   "execution_count": 49,
   "id": "1f2394b4",
   "metadata": {},
   "outputs": [
    {
     "data": {
      "text/plain": [
       "1220"
      ]
     },
     "execution_count": 49,
     "metadata": {},
     "output_type": "execute_result"
    }
   ],
   "source": [
    "nulls"
   ]
  },
  {
   "cell_type": "code",
   "execution_count": 50,
   "id": "5cea2c29",
   "metadata": {},
   "outputs": [],
   "source": [
    "percentage = (nulls/data_rows)*100\n",
    "percentage = round(percentage,2)"
   ]
  },
  {
   "cell_type": "code",
   "execution_count": 53,
   "id": "1079646f",
   "metadata": {},
   "outputs": [
    {
     "name": "stdout",
     "output_type": "stream",
     "text": [
      "30.52 percent of our data are missing from our data set.\n",
      "That is to break it down, our dataset has 3998 rows and 12 columns.\n",
      "5 out of the 12 rows have at least a missing value.\n",
      "The total rows with at least a missing value is 285, which is about 30.52 percent of the total number of rows.\n",
      "So, we would be dropping these 285 rows as it might skew our analytical process.\n"
     ]
    }
   ],
   "source": [
    "print((f'{percentage} percent of our data are missing from our data set.\\nThat is to break it down, our dataset has {customerdemographic.shape[0]} rows and {customerdemographic.shape[1]} columns.\\n5 out of the 12 rows have at least a missing value.\\nThe total rows with at least a missing value is {null_rows}, which is about {percentage} percent of the total number of rows.\\nSo, we would be dropping these {null_rows} rows as it might skew our analytical process.') )"
   ]
  },
  {
   "cell_type": "code",
   "execution_count": null,
   "id": "2d2cf004",
   "metadata": {},
   "outputs": [],
   "source": []
  },
  {
   "cell_type": "markdown",
   "id": "0c057c10",
   "metadata": {},
   "source": [
    "### Dropping Missing Values"
   ]
  },
  {
   "cell_type": "code",
   "execution_count": 56,
   "id": "e65080c4",
   "metadata": {},
   "outputs": [],
   "source": [
    "customerdemographic.dropna(inplace = True)"
   ]
  },
  {
   "cell_type": "code",
   "execution_count": 66,
   "id": "c9cacc86",
   "metadata": {},
   "outputs": [
    {
     "data": {
      "text/plain": [
       "(2777, 13)"
      ]
     },
     "execution_count": 66,
     "metadata": {},
     "output_type": "execute_result"
    }
   ],
   "source": [
    "customerdemographic.shape"
   ]
  },
  {
   "cell_type": "code",
   "execution_count": null,
   "id": "4e229c76",
   "metadata": {},
   "outputs": [],
   "source": []
  },
  {
   "cell_type": "markdown",
   "id": "acaba407",
   "metadata": {},
   "source": [
    "### Creating The Age Column"
   ]
  },
  {
   "cell_type": "code",
   "execution_count": 58,
   "id": "d9204fe3",
   "metadata": {},
   "outputs": [],
   "source": [
    "age2 = customerdemographic['DOB'].apply(lambda x: 2017 - x.year)\n",
    "customerdemographic.insert(6, 'age', age2)"
   ]
  },
  {
   "cell_type": "code",
   "execution_count": null,
   "id": "7f102788",
   "metadata": {},
   "outputs": [],
   "source": []
  },
  {
   "cell_type": "code",
   "execution_count": 43,
   "id": "480fe9b0",
   "metadata": {},
   "outputs": [],
   "source": []
  },
  {
   "cell_type": "markdown",
   "id": "862cc79f",
   "metadata": {},
   "source": [
    "### Setting The Gender Column"
   ]
  },
  {
   "cell_type": "code",
   "execution_count": 69,
   "id": "fb03e416",
   "metadata": {},
   "outputs": [],
   "source": [
    "customerdemographic['gender']=customerdemographic['gender'].replace({'F':'Female','Femal':'Female','M':'Male'})"
   ]
  },
  {
   "cell_type": "code",
   "execution_count": null,
   "id": "81746f4c",
   "metadata": {},
   "outputs": [],
   "source": []
  },
  {
   "cell_type": "markdown",
   "id": "7784baaf",
   "metadata": {},
   "source": [
    "### Checking The Columns Datatype"
   ]
  },
  {
   "cell_type": "code",
   "execution_count": 67,
   "id": "36921528",
   "metadata": {},
   "outputs": [
    {
     "data": {
      "text/plain": [
       "customer_id                                     int64\n",
       "first_name                                     object\n",
       "last_name                                      object\n",
       "gender                                         object\n",
       "past_3_years_bike_related_purchases             int64\n",
       "DOB                                    datetime64[ns]\n",
       "age                                             int64\n",
       "job_title                                      object\n",
       "job_industry_category                          object\n",
       "wealth_segment                                 object\n",
       "deceased_indicator                             object\n",
       "owns_car                                       object\n",
       "tenure                                        float64\n",
       "dtype: object"
      ]
     },
     "execution_count": 67,
     "metadata": {},
     "output_type": "execute_result"
    }
   ],
   "source": [
    "customerdemographic.dtypes"
   ]
  },
  {
   "cell_type": "code",
   "execution_count": null,
   "id": "a1bf6a13",
   "metadata": {},
   "outputs": [],
   "source": []
  },
  {
   "cell_type": "markdown",
   "id": "9eaa36b6",
   "metadata": {},
   "source": [
    "### Saving The Dataset"
   ]
  },
  {
   "cell_type": "code",
   "execution_count": 75,
   "id": "b2ac0e15",
   "metadata": {},
   "outputs": [],
   "source": [
    "customerdemographic.to_csv('kpmg_customer_demographic.csv', index = False)"
   ]
  },
  {
   "cell_type": "code",
   "execution_count": null,
   "id": "a45c3cb4",
   "metadata": {},
   "outputs": [],
   "source": []
  },
  {
   "cell_type": "markdown",
   "id": "044249d5",
   "metadata": {},
   "source": [
    "# customer_address"
   ]
  },
  {
   "cell_type": "code",
   "execution_count": 78,
   "id": "4bf1e104",
   "metadata": {},
   "outputs": [
    {
     "data": {
      "text/html": [
       "<div>\n",
       "<style scoped>\n",
       "    .dataframe tbody tr th:only-of-type {\n",
       "        vertical-align: middle;\n",
       "    }\n",
       "\n",
       "    .dataframe tbody tr th {\n",
       "        vertical-align: top;\n",
       "    }\n",
       "\n",
       "    .dataframe thead th {\n",
       "        text-align: right;\n",
       "    }\n",
       "</style>\n",
       "<table border=\"1\" class=\"dataframe\">\n",
       "  <thead>\n",
       "    <tr style=\"text-align: right;\">\n",
       "      <th></th>\n",
       "      <th>customer_id</th>\n",
       "      <th>address</th>\n",
       "      <th>postcode</th>\n",
       "      <th>state</th>\n",
       "      <th>country</th>\n",
       "      <th>property_valuation</th>\n",
       "    </tr>\n",
       "  </thead>\n",
       "  <tbody>\n",
       "    <tr>\n",
       "      <th>0</th>\n",
       "      <td>1</td>\n",
       "      <td>060 Morning Avenue</td>\n",
       "      <td>2016</td>\n",
       "      <td>New South Wales</td>\n",
       "      <td>Australia</td>\n",
       "      <td>10</td>\n",
       "    </tr>\n",
       "    <tr>\n",
       "      <th>1</th>\n",
       "      <td>2</td>\n",
       "      <td>6 Meadow Vale Court</td>\n",
       "      <td>2153</td>\n",
       "      <td>New South Wales</td>\n",
       "      <td>Australia</td>\n",
       "      <td>10</td>\n",
       "    </tr>\n",
       "    <tr>\n",
       "      <th>2</th>\n",
       "      <td>4</td>\n",
       "      <td>0 Holy Cross Court</td>\n",
       "      <td>4211</td>\n",
       "      <td>QLD</td>\n",
       "      <td>Australia</td>\n",
       "      <td>9</td>\n",
       "    </tr>\n",
       "    <tr>\n",
       "      <th>3</th>\n",
       "      <td>5</td>\n",
       "      <td>17979 Del Mar Point</td>\n",
       "      <td>2448</td>\n",
       "      <td>New South Wales</td>\n",
       "      <td>Australia</td>\n",
       "      <td>4</td>\n",
       "    </tr>\n",
       "    <tr>\n",
       "      <th>4</th>\n",
       "      <td>6</td>\n",
       "      <td>9 Oakridge Court</td>\n",
       "      <td>3216</td>\n",
       "      <td>VIC</td>\n",
       "      <td>Australia</td>\n",
       "      <td>9</td>\n",
       "    </tr>\n",
       "  </tbody>\n",
       "</table>\n",
       "</div>"
      ],
      "text/plain": [
       "   customer_id              address  postcode            state    country  \\\n",
       "0            1   060 Morning Avenue      2016  New South Wales  Australia   \n",
       "1            2  6 Meadow Vale Court      2153  New South Wales  Australia   \n",
       "2            4   0 Holy Cross Court      4211              QLD  Australia   \n",
       "3            5  17979 Del Mar Point      2448  New South Wales  Australia   \n",
       "4            6     9 Oakridge Court      3216              VIC  Australia   \n",
       "\n",
       "   property_valuation  \n",
       "0                  10  \n",
       "1                  10  \n",
       "2                   9  \n",
       "3                   4  \n",
       "4                   9  "
      ]
     },
     "execution_count": 78,
     "metadata": {},
     "output_type": "execute_result"
    }
   ],
   "source": [
    "customer_address.head()"
   ]
  },
  {
   "cell_type": "code",
   "execution_count": 77,
   "id": "b4568040",
   "metadata": {},
   "outputs": [
    {
     "data": {
      "text/plain": [
       "(3999, 6)"
      ]
     },
     "execution_count": 77,
     "metadata": {},
     "output_type": "execute_result"
    }
   ],
   "source": [
    "customer_address.shape"
   ]
  },
  {
   "cell_type": "markdown",
   "id": "84c44d5a",
   "metadata": {},
   "source": [
    "### Checking Customer Datatype"
   ]
  },
  {
   "cell_type": "code",
   "execution_count": 106,
   "id": "62826ccf",
   "metadata": {},
   "outputs": [
    {
     "data": {
      "text/plain": [
       "customer_id            int64\n",
       "address               object\n",
       "postcode               int64\n",
       "state                 object\n",
       "country               object\n",
       "property_valuation     int64\n",
       "dtype: object"
      ]
     },
     "execution_count": 106,
     "metadata": {},
     "output_type": "execute_result"
    }
   ],
   "source": [
    "customer_address.dtypes"
   ]
  },
  {
   "cell_type": "markdown",
   "id": "bfdbe1bd",
   "metadata": {},
   "source": [
    "### Checking For Duplicated Rows"
   ]
  },
  {
   "cell_type": "code",
   "execution_count": 79,
   "id": "08d905a0",
   "metadata": {},
   "outputs": [
    {
     "data": {
      "text/plain": [
       "0"
      ]
     },
     "execution_count": 79,
     "metadata": {},
     "output_type": "execute_result"
    }
   ],
   "source": [
    "customer_address.duplicated('customer_id').sum()"
   ]
  },
  {
   "cell_type": "markdown",
   "id": "d54c9e7c",
   "metadata": {},
   "source": [
    "### Checking For Missing Values"
   ]
  },
  {
   "cell_type": "code",
   "execution_count": 80,
   "id": "0bee3a69",
   "metadata": {},
   "outputs": [
    {
     "data": {
      "text/plain": [
       "customer_id           0\n",
       "address               0\n",
       "postcode              0\n",
       "state                 0\n",
       "country               0\n",
       "property_valuation    0\n",
       "dtype: int64"
      ]
     },
     "execution_count": 80,
     "metadata": {},
     "output_type": "execute_result"
    }
   ],
   "source": [
    "customer_address.isnull().sum()"
   ]
  },
  {
   "cell_type": "code",
   "execution_count": 111,
   "id": "a05dcf55",
   "metadata": {},
   "outputs": [
    {
     "data": {
      "text/plain": [
       "Australia    3999\n",
       "Name: country, dtype: int64"
      ]
     },
     "execution_count": 111,
     "metadata": {},
     "output_type": "execute_result"
    }
   ],
   "source": [
    "customer_address.country.value_counts()"
   ]
  },
  {
   "cell_type": "markdown",
   "id": "9ee915d8",
   "metadata": {},
   "source": [
    "### Setting Our State Column To Have Consistent Precise Values"
   ]
  },
  {
   "cell_type": "code",
   "execution_count": 81,
   "id": "26ce9e6a",
   "metadata": {},
   "outputs": [
    {
     "data": {
      "text/plain": [
       "array(['New South Wales', 'QLD', 'VIC', 'NSW', 'Victoria'], dtype=object)"
      ]
     },
     "execution_count": 81,
     "metadata": {},
     "output_type": "execute_result"
    }
   ],
   "source": [
    "customer_address.state.unique()  #checking our state values"
   ]
  },
  {
   "cell_type": "code",
   "execution_count": 84,
   "id": "ec680ed0",
   "metadata": {},
   "outputs": [
    {
     "data": {
      "text/plain": [
       "array(['NSW', 'QLD', 'VIC'], dtype=object)"
      ]
     },
     "execution_count": 84,
     "metadata": {},
     "output_type": "execute_result"
    }
   ],
   "source": [
    "new = {'New South Wales':'NSW', 'Victoria':'VIC'}   #mapping out our state values with more precise values\n",
    "\n",
    "customer_address['state'].replace(new, inplace = True)  #replacing the state values with the mapped out values\n",
    "\n",
    "customer_address.state.unique()  #confirming the consistency of our state values"
   ]
  },
  {
   "cell_type": "code",
   "execution_count": 64,
   "id": "091fd3d3",
   "metadata": {},
   "outputs": [],
   "source": []
  },
  {
   "cell_type": "markdown",
   "id": "be24158e",
   "metadata": {},
   "source": [
    "### Saving The Dataset"
   ]
  },
  {
   "cell_type": "code",
   "execution_count": 91,
   "id": "12ed9a99",
   "metadata": {},
   "outputs": [],
   "source": [
    "customer_address.to_csv('kpmg_customer_address.csv', index = False)"
   ]
  },
  {
   "cell_type": "code",
   "execution_count": null,
   "id": "e302cb4d",
   "metadata": {},
   "outputs": [],
   "source": []
  },
  {
   "cell_type": "code",
   "execution_count": null,
   "id": "7366ece0",
   "metadata": {},
   "outputs": [],
   "source": []
  },
  {
   "cell_type": "code",
   "execution_count": null,
   "id": "3033078f",
   "metadata": {},
   "outputs": [],
   "source": []
  },
  {
   "cell_type": "code",
   "execution_count": null,
   "id": "78d19b91",
   "metadata": {},
   "outputs": [],
   "source": []
  },
  {
   "cell_type": "markdown",
   "id": "88ea0aaf",
   "metadata": {},
   "source": [
    "### Missing Customer Id's From Datasets Prior Or Post Data Cleaning"
   ]
  },
  {
   "cell_type": "markdown",
   "id": "648cf38d",
   "metadata": {},
   "source": [
    "### List of customers id's from customer demographics not found in customer address"
   ]
  },
  {
   "cell_type": "code",
   "execution_count": 85,
   "id": "ea808a93",
   "metadata": {},
   "outputs": [
    {
     "data": {
      "text/html": [
       "<div>\n",
       "<style scoped>\n",
       "    .dataframe tbody tr th:only-of-type {\n",
       "        vertical-align: middle;\n",
       "    }\n",
       "\n",
       "    .dataframe tbody tr th {\n",
       "        vertical-align: top;\n",
       "    }\n",
       "\n",
       "    .dataframe thead th {\n",
       "        text-align: right;\n",
       "    }\n",
       "</style>\n",
       "<table border=\"1\" class=\"dataframe\">\n",
       "  <thead>\n",
       "    <tr style=\"text-align: right;\">\n",
       "      <th></th>\n",
       "      <th>customer_id</th>\n",
       "      <th>first_name</th>\n",
       "      <th>last_name</th>\n",
       "      <th>gender</th>\n",
       "      <th>past_3_years_bike_related_purchases</th>\n",
       "      <th>DOB</th>\n",
       "      <th>age</th>\n",
       "      <th>job_title</th>\n",
       "      <th>job_industry_category</th>\n",
       "      <th>wealth_segment</th>\n",
       "      <th>deceased_indicator</th>\n",
       "      <th>owns_car</th>\n",
       "      <th>tenure</th>\n",
       "    </tr>\n",
       "  </thead>\n",
       "  <tbody>\n",
       "    <tr>\n",
       "      <th>2</th>\n",
       "      <td>3</td>\n",
       "      <td>Arlin</td>\n",
       "      <td>Dearle</td>\n",
       "      <td>Male</td>\n",
       "      <td>61</td>\n",
       "      <td>1954-01-20</td>\n",
       "      <td>63</td>\n",
       "      <td>Recruiting Manager</td>\n",
       "      <td>Property</td>\n",
       "      <td>Mass Customer</td>\n",
       "      <td>N</td>\n",
       "      <td>Yes</td>\n",
       "      <td>15.0</td>\n",
       "    </tr>\n",
       "    <tr>\n",
       "      <th>9</th>\n",
       "      <td>10</td>\n",
       "      <td>Fiorenze</td>\n",
       "      <td>Birdall</td>\n",
       "      <td>Female</td>\n",
       "      <td>49</td>\n",
       "      <td>1988-10-11</td>\n",
       "      <td>29</td>\n",
       "      <td>Senior Quality Engineer</td>\n",
       "      <td>Financial Services</td>\n",
       "      <td>Mass Customer</td>\n",
       "      <td>N</td>\n",
       "      <td>Yes</td>\n",
       "      <td>20.0</td>\n",
       "    </tr>\n",
       "  </tbody>\n",
       "</table>\n",
       "</div>"
      ],
      "text/plain": [
       "   customer_id first_name last_name  gender  \\\n",
       "2            3      Arlin    Dearle    Male   \n",
       "9           10   Fiorenze   Birdall  Female   \n",
       "\n",
       "   past_3_years_bike_related_purchases        DOB  age  \\\n",
       "2                                   61 1954-01-20   63   \n",
       "9                                   49 1988-10-11   29   \n",
       "\n",
       "                 job_title job_industry_category wealth_segment  \\\n",
       "2       Recruiting Manager              Property  Mass Customer   \n",
       "9  Senior Quality Engineer    Financial Services  Mass Customer   \n",
       "\n",
       "  deceased_indicator owns_car  tenure  \n",
       "2                  N      Yes    15.0  \n",
       "9                  N      Yes    20.0  "
      ]
     },
     "execution_count": 85,
     "metadata": {},
     "output_type": "execute_result"
    }
   ],
   "source": [
    "customerdemographic[~customerdemographic['customer_id'].isin(customer_address['customer_id'])]"
   ]
  },
  {
   "cell_type": "markdown",
   "id": "22d1288e",
   "metadata": {},
   "source": [
    "## List of customers id's from customer address not found in customer demographics"
   ]
  },
  {
   "cell_type": "code",
   "execution_count": 86,
   "id": "404d8e83",
   "metadata": {},
   "outputs": [
    {
     "data": {
      "text/html": [
       "<div>\n",
       "<style scoped>\n",
       "    .dataframe tbody tr th:only-of-type {\n",
       "        vertical-align: middle;\n",
       "    }\n",
       "\n",
       "    .dataframe tbody tr th {\n",
       "        vertical-align: top;\n",
       "    }\n",
       "\n",
       "    .dataframe thead th {\n",
       "        text-align: right;\n",
       "    }\n",
       "</style>\n",
       "<table border=\"1\" class=\"dataframe\">\n",
       "  <thead>\n",
       "    <tr style=\"text-align: right;\">\n",
       "      <th></th>\n",
       "      <th>customer_id</th>\n",
       "      <th>address</th>\n",
       "      <th>postcode</th>\n",
       "      <th>state</th>\n",
       "      <th>country</th>\n",
       "      <th>property_valuation</th>\n",
       "    </tr>\n",
       "  </thead>\n",
       "  <tbody>\n",
       "    <tr>\n",
       "      <th>2</th>\n",
       "      <td>4</td>\n",
       "      <td>0 Holy Cross Court</td>\n",
       "      <td>4211</td>\n",
       "      <td>QLD</td>\n",
       "      <td>Australia</td>\n",
       "      <td>9</td>\n",
       "    </tr>\n",
       "    <tr>\n",
       "      <th>3</th>\n",
       "      <td>5</td>\n",
       "      <td>17979 Del Mar Point</td>\n",
       "      <td>2448</td>\n",
       "      <td>NSW</td>\n",
       "      <td>Australia</td>\n",
       "      <td>4</td>\n",
       "    </tr>\n",
       "    <tr>\n",
       "      <th>4</th>\n",
       "      <td>6</td>\n",
       "      <td>9 Oakridge Court</td>\n",
       "      <td>3216</td>\n",
       "      <td>VIC</td>\n",
       "      <td>Australia</td>\n",
       "      <td>9</td>\n",
       "    </tr>\n",
       "    <tr>\n",
       "      <th>5</th>\n",
       "      <td>7</td>\n",
       "      <td>4 Delaware Trail</td>\n",
       "      <td>2210</td>\n",
       "      <td>NSW</td>\n",
       "      <td>Australia</td>\n",
       "      <td>9</td>\n",
       "    </tr>\n",
       "    <tr>\n",
       "      <th>6</th>\n",
       "      <td>8</td>\n",
       "      <td>49 Londonderry Lane</td>\n",
       "      <td>2650</td>\n",
       "      <td>NSW</td>\n",
       "      <td>Australia</td>\n",
       "      <td>4</td>\n",
       "    </tr>\n",
       "    <tr>\n",
       "      <th>...</th>\n",
       "      <td>...</td>\n",
       "      <td>...</td>\n",
       "      <td>...</td>\n",
       "      <td>...</td>\n",
       "      <td>...</td>\n",
       "      <td>...</td>\n",
       "    </tr>\n",
       "    <tr>\n",
       "      <th>3994</th>\n",
       "      <td>3999</td>\n",
       "      <td>1482 Hauk Trail</td>\n",
       "      <td>3064</td>\n",
       "      <td>VIC</td>\n",
       "      <td>Australia</td>\n",
       "      <td>3</td>\n",
       "    </tr>\n",
       "    <tr>\n",
       "      <th>3995</th>\n",
       "      <td>4000</td>\n",
       "      <td>57042 Village Green Point</td>\n",
       "      <td>4511</td>\n",
       "      <td>QLD</td>\n",
       "      <td>Australia</td>\n",
       "      <td>6</td>\n",
       "    </tr>\n",
       "    <tr>\n",
       "      <th>3996</th>\n",
       "      <td>4001</td>\n",
       "      <td>87 Crescent Oaks Alley</td>\n",
       "      <td>2756</td>\n",
       "      <td>NSW</td>\n",
       "      <td>Australia</td>\n",
       "      <td>10</td>\n",
       "    </tr>\n",
       "    <tr>\n",
       "      <th>3997</th>\n",
       "      <td>4002</td>\n",
       "      <td>8194 Lien Street</td>\n",
       "      <td>4032</td>\n",
       "      <td>QLD</td>\n",
       "      <td>Australia</td>\n",
       "      <td>7</td>\n",
       "    </tr>\n",
       "    <tr>\n",
       "      <th>3998</th>\n",
       "      <td>4003</td>\n",
       "      <td>320 Acker Drive</td>\n",
       "      <td>2251</td>\n",
       "      <td>NSW</td>\n",
       "      <td>Australia</td>\n",
       "      <td>7</td>\n",
       "    </tr>\n",
       "  </tbody>\n",
       "</table>\n",
       "<p>1224 rows × 6 columns</p>\n",
       "</div>"
      ],
      "text/plain": [
       "      customer_id                    address  postcode state    country  \\\n",
       "2               4         0 Holy Cross Court      4211   QLD  Australia   \n",
       "3               5        17979 Del Mar Point      2448   NSW  Australia   \n",
       "4               6           9 Oakridge Court      3216   VIC  Australia   \n",
       "5               7           4 Delaware Trail      2210   NSW  Australia   \n",
       "6               8        49 Londonderry Lane      2650   NSW  Australia   \n",
       "...           ...                        ...       ...   ...        ...   \n",
       "3994         3999            1482 Hauk Trail      3064   VIC  Australia   \n",
       "3995         4000  57042 Village Green Point      4511   QLD  Australia   \n",
       "3996         4001     87 Crescent Oaks Alley      2756   NSW  Australia   \n",
       "3997         4002           8194 Lien Street      4032   QLD  Australia   \n",
       "3998         4003            320 Acker Drive      2251   NSW  Australia   \n",
       "\n",
       "      property_valuation  \n",
       "2                      9  \n",
       "3                      4  \n",
       "4                      9  \n",
       "5                      9  \n",
       "6                      4  \n",
       "...                  ...  \n",
       "3994                   3  \n",
       "3995                   6  \n",
       "3996                  10  \n",
       "3997                   7  \n",
       "3998                   7  \n",
       "\n",
       "[1224 rows x 6 columns]"
      ]
     },
     "execution_count": 86,
     "metadata": {},
     "output_type": "execute_result"
    }
   ],
   "source": [
    "customer_address[~customer_address['customer_id'].isin(customerdemographic['customer_id'])]"
   ]
  },
  {
   "cell_type": "markdown",
   "id": "e3097b47",
   "metadata": {},
   "source": [
    "## List of customers id's from transactions not found in customer demographics"
   ]
  },
  {
   "cell_type": "code",
   "execution_count": 87,
   "id": "ee5ccb10",
   "metadata": {},
   "outputs": [
    {
     "data": {
      "text/html": [
       "<div>\n",
       "<style scoped>\n",
       "    .dataframe tbody tr th:only-of-type {\n",
       "        vertical-align: middle;\n",
       "    }\n",
       "\n",
       "    .dataframe tbody tr th {\n",
       "        vertical-align: top;\n",
       "    }\n",
       "\n",
       "    .dataframe thead th {\n",
       "        text-align: right;\n",
       "    }\n",
       "</style>\n",
       "<table border=\"1\" class=\"dataframe\">\n",
       "  <thead>\n",
       "    <tr style=\"text-align: right;\">\n",
       "      <th></th>\n",
       "      <th>transaction_id</th>\n",
       "      <th>product_id</th>\n",
       "      <th>customer_id</th>\n",
       "      <th>transaction_date</th>\n",
       "      <th>online_order</th>\n",
       "      <th>order_status</th>\n",
       "      <th>brand</th>\n",
       "      <th>product_line</th>\n",
       "      <th>product_class</th>\n",
       "      <th>product_size</th>\n",
       "      <th>list_price</th>\n",
       "      <th>standard_cost</th>\n",
       "      <th>profit</th>\n",
       "      <th>product_first_sold_date</th>\n",
       "    </tr>\n",
       "  </thead>\n",
       "  <tbody>\n",
       "    <tr>\n",
       "      <th>4</th>\n",
       "      <td>5</td>\n",
       "      <td>78</td>\n",
       "      <td>787</td>\n",
       "      <td>2017-10-01</td>\n",
       "      <td>Yes</td>\n",
       "      <td>Approved</td>\n",
       "      <td>Giant Bicycles</td>\n",
       "      <td>Standard</td>\n",
       "      <td>medium</td>\n",
       "      <td>large</td>\n",
       "      <td>1765.30</td>\n",
       "      <td>709.48</td>\n",
       "      <td>1055.82</td>\n",
       "      <td>2015-08-10</td>\n",
       "    </tr>\n",
       "    <tr>\n",
       "      <th>10</th>\n",
       "      <td>11</td>\n",
       "      <td>5</td>\n",
       "      <td>1986</td>\n",
       "      <td>2017-01-17</td>\n",
       "      <td>No</td>\n",
       "      <td>Approved</td>\n",
       "      <td>Trek Bicycles</td>\n",
       "      <td>Mountain</td>\n",
       "      <td>low</td>\n",
       "      <td>medium</td>\n",
       "      <td>574.64</td>\n",
       "      <td>459.71</td>\n",
       "      <td>114.93</td>\n",
       "      <td>2011-08-29</td>\n",
       "    </tr>\n",
       "    <tr>\n",
       "      <th>16</th>\n",
       "      <td>17</td>\n",
       "      <td>79</td>\n",
       "      <td>2426</td>\n",
       "      <td>2017-04-03</td>\n",
       "      <td>No</td>\n",
       "      <td>Approved</td>\n",
       "      <td>Norco Bicycles</td>\n",
       "      <td>Standard</td>\n",
       "      <td>medium</td>\n",
       "      <td>medium</td>\n",
       "      <td>1555.58</td>\n",
       "      <td>818.01</td>\n",
       "      <td>737.57</td>\n",
       "      <td>2004-08-07</td>\n",
       "    </tr>\n",
       "    <tr>\n",
       "      <th>24</th>\n",
       "      <td>25</td>\n",
       "      <td>89</td>\n",
       "      <td>2822</td>\n",
       "      <td>2017-06-11</td>\n",
       "      <td>No</td>\n",
       "      <td>Approved</td>\n",
       "      <td>WeareA2B</td>\n",
       "      <td>Touring</td>\n",
       "      <td>medium</td>\n",
       "      <td>large</td>\n",
       "      <td>1362.99</td>\n",
       "      <td>57.74</td>\n",
       "      <td>1305.25</td>\n",
       "      <td>1993-04-20</td>\n",
       "    </tr>\n",
       "    <tr>\n",
       "      <th>25</th>\n",
       "      <td>26</td>\n",
       "      <td>64</td>\n",
       "      <td>2596</td>\n",
       "      <td>2017-01-10</td>\n",
       "      <td>No</td>\n",
       "      <td>Approved</td>\n",
       "      <td>Trek Bicycles</td>\n",
       "      <td>Standard</td>\n",
       "      <td>medium</td>\n",
       "      <td>large</td>\n",
       "      <td>1469.44</td>\n",
       "      <td>596.55</td>\n",
       "      <td>872.89</td>\n",
       "      <td>2015-05-21</td>\n",
       "    </tr>\n",
       "    <tr>\n",
       "      <th>...</th>\n",
       "      <td>...</td>\n",
       "      <td>...</td>\n",
       "      <td>...</td>\n",
       "      <td>...</td>\n",
       "      <td>...</td>\n",
       "      <td>...</td>\n",
       "      <td>...</td>\n",
       "      <td>...</td>\n",
       "      <td>...</td>\n",
       "      <td>...</td>\n",
       "      <td>...</td>\n",
       "      <td>...</td>\n",
       "      <td>...</td>\n",
       "      <td>...</td>\n",
       "    </tr>\n",
       "    <tr>\n",
       "      <th>19988</th>\n",
       "      <td>19989</td>\n",
       "      <td>0</td>\n",
       "      <td>714</td>\n",
       "      <td>2017-04-27</td>\n",
       "      <td>Yes</td>\n",
       "      <td>Approved</td>\n",
       "      <td>Norco Bicycles</td>\n",
       "      <td>Standard</td>\n",
       "      <td>low</td>\n",
       "      <td>medium</td>\n",
       "      <td>363.01</td>\n",
       "      <td>290.41</td>\n",
       "      <td>72.60</td>\n",
       "      <td>2003-01-05</td>\n",
       "    </tr>\n",
       "    <tr>\n",
       "      <th>19991</th>\n",
       "      <td>19992</td>\n",
       "      <td>11</td>\n",
       "      <td>1374</td>\n",
       "      <td>2017-09-14</td>\n",
       "      <td>No</td>\n",
       "      <td>Approved</td>\n",
       "      <td>Giant Bicycles</td>\n",
       "      <td>Standard</td>\n",
       "      <td>high</td>\n",
       "      <td>medium</td>\n",
       "      <td>1274.93</td>\n",
       "      <td>764.96</td>\n",
       "      <td>509.97</td>\n",
       "      <td>2007-08-04</td>\n",
       "    </tr>\n",
       "    <tr>\n",
       "      <th>19992</th>\n",
       "      <td>19993</td>\n",
       "      <td>13</td>\n",
       "      <td>5</td>\n",
       "      <td>2017-04-28</td>\n",
       "      <td>No</td>\n",
       "      <td>Approved</td>\n",
       "      <td>Solex</td>\n",
       "      <td>Standard</td>\n",
       "      <td>medium</td>\n",
       "      <td>medium</td>\n",
       "      <td>1163.89</td>\n",
       "      <td>589.27</td>\n",
       "      <td>574.62</td>\n",
       "      <td>2009-03-08</td>\n",
       "    </tr>\n",
       "    <tr>\n",
       "      <th>19993</th>\n",
       "      <td>19994</td>\n",
       "      <td>77</td>\n",
       "      <td>2618</td>\n",
       "      <td>2017-12-23</td>\n",
       "      <td>No</td>\n",
       "      <td>Approved</td>\n",
       "      <td>Norco Bicycles</td>\n",
       "      <td>Road</td>\n",
       "      <td>medium</td>\n",
       "      <td>large</td>\n",
       "      <td>1240.31</td>\n",
       "      <td>795.10</td>\n",
       "      <td>445.21</td>\n",
       "      <td>2011-01-10</td>\n",
       "    </tr>\n",
       "    <tr>\n",
       "      <th>19998</th>\n",
       "      <td>19999</td>\n",
       "      <td>6</td>\n",
       "      <td>2764</td>\n",
       "      <td>2017-07-03</td>\n",
       "      <td>No</td>\n",
       "      <td>Approved</td>\n",
       "      <td>OHM Cycles</td>\n",
       "      <td>Standard</td>\n",
       "      <td>high</td>\n",
       "      <td>medium</td>\n",
       "      <td>227.88</td>\n",
       "      <td>136.73</td>\n",
       "      <td>91.15</td>\n",
       "      <td>2004-08-17</td>\n",
       "    </tr>\n",
       "  </tbody>\n",
       "</table>\n",
       "<p>5773 rows × 14 columns</p>\n",
       "</div>"
      ],
      "text/plain": [
       "       transaction_id  product_id  customer_id transaction_date online_order  \\\n",
       "4                   5          78          787       2017-10-01          Yes   \n",
       "10                 11           5         1986       2017-01-17           No   \n",
       "16                 17          79         2426       2017-04-03           No   \n",
       "24                 25          89         2822       2017-06-11           No   \n",
       "25                 26          64         2596       2017-01-10           No   \n",
       "...               ...         ...          ...              ...          ...   \n",
       "19988           19989           0          714       2017-04-27          Yes   \n",
       "19991           19992          11         1374       2017-09-14           No   \n",
       "19992           19993          13            5       2017-04-28           No   \n",
       "19993           19994          77         2618       2017-12-23           No   \n",
       "19998           19999           6         2764       2017-07-03           No   \n",
       "\n",
       "      order_status           brand product_line product_class product_size  \\\n",
       "4         Approved  Giant Bicycles     Standard        medium        large   \n",
       "10        Approved   Trek Bicycles     Mountain           low       medium   \n",
       "16        Approved  Norco Bicycles     Standard        medium       medium   \n",
       "24        Approved        WeareA2B      Touring        medium        large   \n",
       "25        Approved   Trek Bicycles     Standard        medium        large   \n",
       "...            ...             ...          ...           ...          ...   \n",
       "19988     Approved  Norco Bicycles     Standard           low       medium   \n",
       "19991     Approved  Giant Bicycles     Standard          high       medium   \n",
       "19992     Approved           Solex     Standard        medium       medium   \n",
       "19993     Approved  Norco Bicycles         Road        medium        large   \n",
       "19998     Approved      OHM Cycles     Standard          high       medium   \n",
       "\n",
       "       list_price  standard_cost   profit product_first_sold_date  \n",
       "4         1765.30         709.48  1055.82              2015-08-10  \n",
       "10         574.64         459.71   114.93              2011-08-29  \n",
       "16        1555.58         818.01   737.57              2004-08-07  \n",
       "24        1362.99          57.74  1305.25              1993-04-20  \n",
       "25        1469.44         596.55   872.89              2015-05-21  \n",
       "...           ...            ...      ...                     ...  \n",
       "19988      363.01         290.41    72.60              2003-01-05  \n",
       "19991     1274.93         764.96   509.97              2007-08-04  \n",
       "19992     1163.89         589.27   574.62              2009-03-08  \n",
       "19993     1240.31         795.10   445.21              2011-01-10  \n",
       "19998      227.88         136.73    91.15              2004-08-17  \n",
       "\n",
       "[5773 rows x 14 columns]"
      ]
     },
     "execution_count": 87,
     "metadata": {},
     "output_type": "execute_result"
    }
   ],
   "source": [
    "kpmg_transactions[~kpmg_transactions['customer_id'].isin(customerdemographic['customer_id'])]"
   ]
  },
  {
   "cell_type": "markdown",
   "id": "3b0079c1",
   "metadata": {},
   "source": [
    "## List of customers id's from transactions not found in customer address"
   ]
  },
  {
   "cell_type": "code",
   "execution_count": 88,
   "id": "8965b2a1",
   "metadata": {},
   "outputs": [
    {
     "data": {
      "text/html": [
       "<div>\n",
       "<style scoped>\n",
       "    .dataframe tbody tr th:only-of-type {\n",
       "        vertical-align: middle;\n",
       "    }\n",
       "\n",
       "    .dataframe tbody tr th {\n",
       "        vertical-align: top;\n",
       "    }\n",
       "\n",
       "    .dataframe thead th {\n",
       "        text-align: right;\n",
       "    }\n",
       "</style>\n",
       "<table border=\"1\" class=\"dataframe\">\n",
       "  <thead>\n",
       "    <tr style=\"text-align: right;\">\n",
       "      <th></th>\n",
       "      <th>transaction_id</th>\n",
       "      <th>product_id</th>\n",
       "      <th>customer_id</th>\n",
       "      <th>transaction_date</th>\n",
       "      <th>online_order</th>\n",
       "      <th>order_status</th>\n",
       "      <th>brand</th>\n",
       "      <th>product_line</th>\n",
       "      <th>product_class</th>\n",
       "      <th>product_size</th>\n",
       "      <th>list_price</th>\n",
       "      <th>standard_cost</th>\n",
       "      <th>profit</th>\n",
       "      <th>product_first_sold_date</th>\n",
       "    </tr>\n",
       "  </thead>\n",
       "  <tbody>\n",
       "    <tr>\n",
       "      <th>117</th>\n",
       "      <td>118</td>\n",
       "      <td>20</td>\n",
       "      <td>22</td>\n",
       "      <td>2017-03-21</td>\n",
       "      <td>No</td>\n",
       "      <td>Approved</td>\n",
       "      <td>Trek Bicycles</td>\n",
       "      <td>Standard</td>\n",
       "      <td>medium</td>\n",
       "      <td>small</td>\n",
       "      <td>1775.81</td>\n",
       "      <td>1580.470000</td>\n",
       "      <td>195.340000</td>\n",
       "      <td>2010-05-05</td>\n",
       "    </tr>\n",
       "    <tr>\n",
       "      <th>3479</th>\n",
       "      <td>3480</td>\n",
       "      <td>32</td>\n",
       "      <td>22</td>\n",
       "      <td>2017-09-18</td>\n",
       "      <td>No</td>\n",
       "      <td>Approved</td>\n",
       "      <td>Giant Bicycles</td>\n",
       "      <td>Standard</td>\n",
       "      <td>medium</td>\n",
       "      <td>medium</td>\n",
       "      <td>642.70</td>\n",
       "      <td>211.370000</td>\n",
       "      <td>431.330000</td>\n",
       "      <td>2002-03-22</td>\n",
       "    </tr>\n",
       "    <tr>\n",
       "      <th>3503</th>\n",
       "      <td>3504</td>\n",
       "      <td>38</td>\n",
       "      <td>22</td>\n",
       "      <td>2017-07-16</td>\n",
       "      <td>Yes</td>\n",
       "      <td>Approved</td>\n",
       "      <td>Solex</td>\n",
       "      <td>Standard</td>\n",
       "      <td>medium</td>\n",
       "      <td>medium</td>\n",
       "      <td>1577.53</td>\n",
       "      <td>826.510000</td>\n",
       "      <td>751.020000</td>\n",
       "      <td>2011-03-16</td>\n",
       "    </tr>\n",
       "    <tr>\n",
       "      <th>4564</th>\n",
       "      <td>4565</td>\n",
       "      <td>5</td>\n",
       "      <td>10</td>\n",
       "      <td>2017-08-26</td>\n",
       "      <td>No</td>\n",
       "      <td>Approved</td>\n",
       "      <td>Trek Bicycles</td>\n",
       "      <td>Mountain</td>\n",
       "      <td>low</td>\n",
       "      <td>medium</td>\n",
       "      <td>574.64</td>\n",
       "      <td>459.710000</td>\n",
       "      <td>114.930000</td>\n",
       "      <td>2004-09-28</td>\n",
       "    </tr>\n",
       "    <tr>\n",
       "      <th>4600</th>\n",
       "      <td>4601</td>\n",
       "      <td>65</td>\n",
       "      <td>22</td>\n",
       "      <td>2017-05-29</td>\n",
       "      <td>Yes</td>\n",
       "      <td>Approved</td>\n",
       "      <td>WeareA2B</td>\n",
       "      <td>Standard</td>\n",
       "      <td>medium</td>\n",
       "      <td>medium</td>\n",
       "      <td>1807.45</td>\n",
       "      <td>778.690000</td>\n",
       "      <td>1028.760000</td>\n",
       "      <td>2015-05-21</td>\n",
       "    </tr>\n",
       "    <tr>\n",
       "      <th>5597</th>\n",
       "      <td>5598</td>\n",
       "      <td>85</td>\n",
       "      <td>23</td>\n",
       "      <td>2017-12-20</td>\n",
       "      <td>No</td>\n",
       "      <td>Approved</td>\n",
       "      <td>WeareA2B</td>\n",
       "      <td>Standard</td>\n",
       "      <td>medium</td>\n",
       "      <td>medium</td>\n",
       "      <td>1228.07</td>\n",
       "      <td>400.910000</td>\n",
       "      <td>827.160000</td>\n",
       "      <td>2015-08-10</td>\n",
       "    </tr>\n",
       "    <tr>\n",
       "      <th>5955</th>\n",
       "      <td>5956</td>\n",
       "      <td>21</td>\n",
       "      <td>10</td>\n",
       "      <td>2017-06-20</td>\n",
       "      <td>Yes</td>\n",
       "      <td>Approved</td>\n",
       "      <td>Solex</td>\n",
       "      <td>Standard</td>\n",
       "      <td>medium</td>\n",
       "      <td>large</td>\n",
       "      <td>1071.23</td>\n",
       "      <td>380.740000</td>\n",
       "      <td>690.490000</td>\n",
       "      <td>1993-05-26</td>\n",
       "    </tr>\n",
       "    <tr>\n",
       "      <th>7428</th>\n",
       "      <td>7429</td>\n",
       "      <td>54</td>\n",
       "      <td>23</td>\n",
       "      <td>2017-10-06</td>\n",
       "      <td>No</td>\n",
       "      <td>Approved</td>\n",
       "      <td>WeareA2B</td>\n",
       "      <td>Standard</td>\n",
       "      <td>medium</td>\n",
       "      <td>medium</td>\n",
       "      <td>1807.45</td>\n",
       "      <td>778.690000</td>\n",
       "      <td>1028.760000</td>\n",
       "      <td>2016-12-06</td>\n",
       "    </tr>\n",
       "    <tr>\n",
       "      <th>7950</th>\n",
       "      <td>7951</td>\n",
       "      <td>19</td>\n",
       "      <td>23</td>\n",
       "      <td>2017-08-03</td>\n",
       "      <td>Yes</td>\n",
       "      <td>Approved</td>\n",
       "      <td>Trek Bicycles</td>\n",
       "      <td>Mountain</td>\n",
       "      <td>low</td>\n",
       "      <td>medium</td>\n",
       "      <td>574.64</td>\n",
       "      <td>459.710000</td>\n",
       "      <td>114.930000</td>\n",
       "      <td>2007-08-04</td>\n",
       "    </tr>\n",
       "    <tr>\n",
       "      <th>8206</th>\n",
       "      <td>8207</td>\n",
       "      <td>53</td>\n",
       "      <td>22</td>\n",
       "      <td>2017-09-19</td>\n",
       "      <td>No</td>\n",
       "      <td>Approved</td>\n",
       "      <td>OHM Cycles</td>\n",
       "      <td>Standard</td>\n",
       "      <td>medium</td>\n",
       "      <td>medium</td>\n",
       "      <td>795.34</td>\n",
       "      <td>101.580000</td>\n",
       "      <td>693.760000</td>\n",
       "      <td>1997-02-09</td>\n",
       "    </tr>\n",
       "    <tr>\n",
       "      <th>8707</th>\n",
       "      <td>8708</td>\n",
       "      <td>0</td>\n",
       "      <td>5034</td>\n",
       "      <td>2017-10-07</td>\n",
       "      <td>No</td>\n",
       "      <td>Approved</td>\n",
       "      <td>Solex</td>\n",
       "      <td>Road</td>\n",
       "      <td>medium</td>\n",
       "      <td>medium</td>\n",
       "      <td>416.98</td>\n",
       "      <td>312.735016</td>\n",
       "      <td>104.244984</td>\n",
       "      <td>2015-08-02</td>\n",
       "    </tr>\n",
       "    <tr>\n",
       "      <th>10249</th>\n",
       "      <td>10250</td>\n",
       "      <td>44</td>\n",
       "      <td>10</td>\n",
       "      <td>2017-07-13</td>\n",
       "      <td>Yes</td>\n",
       "      <td>Approved</td>\n",
       "      <td>WeareA2B</td>\n",
       "      <td>Standard</td>\n",
       "      <td>medium</td>\n",
       "      <td>medium</td>\n",
       "      <td>1769.64</td>\n",
       "      <td>108.760000</td>\n",
       "      <td>1660.880000</td>\n",
       "      <td>2007-12-11</td>\n",
       "    </tr>\n",
       "    <tr>\n",
       "      <th>10301</th>\n",
       "      <td>10302</td>\n",
       "      <td>33</td>\n",
       "      <td>3</td>\n",
       "      <td>2017-02-23</td>\n",
       "      <td>No</td>\n",
       "      <td>Approved</td>\n",
       "      <td>Giant Bicycles</td>\n",
       "      <td>Standard</td>\n",
       "      <td>medium</td>\n",
       "      <td>small</td>\n",
       "      <td>1311.44</td>\n",
       "      <td>1167.180000</td>\n",
       "      <td>144.260000</td>\n",
       "      <td>2012-04-10</td>\n",
       "    </tr>\n",
       "    <tr>\n",
       "      <th>11004</th>\n",
       "      <td>11005</td>\n",
       "      <td>94</td>\n",
       "      <td>3</td>\n",
       "      <td>2017-09-16</td>\n",
       "      <td>No</td>\n",
       "      <td>Approved</td>\n",
       "      <td>Giant Bicycles</td>\n",
       "      <td>Standard</td>\n",
       "      <td>medium</td>\n",
       "      <td>large</td>\n",
       "      <td>1635.30</td>\n",
       "      <td>993.660000</td>\n",
       "      <td>641.640000</td>\n",
       "      <td>2012-04-10</td>\n",
       "    </tr>\n",
       "    <tr>\n",
       "      <th>11783</th>\n",
       "      <td>11784</td>\n",
       "      <td>55</td>\n",
       "      <td>3</td>\n",
       "      <td>2017-04-21</td>\n",
       "      <td>Yes</td>\n",
       "      <td>Approved</td>\n",
       "      <td>Trek Bicycles</td>\n",
       "      <td>Road</td>\n",
       "      <td>medium</td>\n",
       "      <td>large</td>\n",
       "      <td>1894.19</td>\n",
       "      <td>598.760000</td>\n",
       "      <td>1295.430000</td>\n",
       "      <td>2014-03-03</td>\n",
       "    </tr>\n",
       "    <tr>\n",
       "      <th>12953</th>\n",
       "      <td>12954</td>\n",
       "      <td>77</td>\n",
       "      <td>3</td>\n",
       "      <td>2017-04-05</td>\n",
       "      <td>No</td>\n",
       "      <td>Approved</td>\n",
       "      <td>Norco Bicycles</td>\n",
       "      <td>Road</td>\n",
       "      <td>medium</td>\n",
       "      <td>large</td>\n",
       "      <td>1240.31</td>\n",
       "      <td>795.100000</td>\n",
       "      <td>445.210000</td>\n",
       "      <td>2000-11-03</td>\n",
       "    </tr>\n",
       "    <tr>\n",
       "      <th>13284</th>\n",
       "      <td>13285</td>\n",
       "      <td>47</td>\n",
       "      <td>3</td>\n",
       "      <td>2017-09-04</td>\n",
       "      <td>No</td>\n",
       "      <td>Approved</td>\n",
       "      <td>Trek Bicycles</td>\n",
       "      <td>Road</td>\n",
       "      <td>low</td>\n",
       "      <td>small</td>\n",
       "      <td>1720.70</td>\n",
       "      <td>1531.420000</td>\n",
       "      <td>189.280000</td>\n",
       "      <td>2010-05-05</td>\n",
       "    </tr>\n",
       "    <tr>\n",
       "      <th>14898</th>\n",
       "      <td>14899</td>\n",
       "      <td>69</td>\n",
       "      <td>10</td>\n",
       "      <td>2017-08-09</td>\n",
       "      <td>No</td>\n",
       "      <td>Approved</td>\n",
       "      <td>Giant Bicycles</td>\n",
       "      <td>Road</td>\n",
       "      <td>medium</td>\n",
       "      <td>medium</td>\n",
       "      <td>792.90</td>\n",
       "      <td>594.680000</td>\n",
       "      <td>198.220000</td>\n",
       "      <td>2006-05-22</td>\n",
       "    </tr>\n",
       "    <tr>\n",
       "      <th>14955</th>\n",
       "      <td>14956</td>\n",
       "      <td>45</td>\n",
       "      <td>22</td>\n",
       "      <td>2017-09-24</td>\n",
       "      <td>Yes</td>\n",
       "      <td>Approved</td>\n",
       "      <td>Solex</td>\n",
       "      <td>Standard</td>\n",
       "      <td>medium</td>\n",
       "      <td>medium</td>\n",
       "      <td>441.49</td>\n",
       "      <td>84.990000</td>\n",
       "      <td>356.500000</td>\n",
       "      <td>1993-04-12</td>\n",
       "    </tr>\n",
       "    <tr>\n",
       "      <th>15187</th>\n",
       "      <td>15188</td>\n",
       "      <td>82</td>\n",
       "      <td>3</td>\n",
       "      <td>2017-03-24</td>\n",
       "      <td>No</td>\n",
       "      <td>Approved</td>\n",
       "      <td>Norco Bicycles</td>\n",
       "      <td>Standard</td>\n",
       "      <td>high</td>\n",
       "      <td>medium</td>\n",
       "      <td>1148.64</td>\n",
       "      <td>689.180000</td>\n",
       "      <td>459.460000</td>\n",
       "      <td>2002-08-31</td>\n",
       "    </tr>\n",
       "    <tr>\n",
       "      <th>15586</th>\n",
       "      <td>15587</td>\n",
       "      <td>77</td>\n",
       "      <td>23</td>\n",
       "      <td>2017-10-09</td>\n",
       "      <td>Yes</td>\n",
       "      <td>Approved</td>\n",
       "      <td>WeareA2B</td>\n",
       "      <td>Standard</td>\n",
       "      <td>medium</td>\n",
       "      <td>medium</td>\n",
       "      <td>1769.64</td>\n",
       "      <td>108.760000</td>\n",
       "      <td>1660.880000</td>\n",
       "      <td>2014-07-28</td>\n",
       "    </tr>\n",
       "    <tr>\n",
       "      <th>16625</th>\n",
       "      <td>16626</td>\n",
       "      <td>100</td>\n",
       "      <td>22</td>\n",
       "      <td>2017-03-10</td>\n",
       "      <td>No</td>\n",
       "      <td>Approved</td>\n",
       "      <td>Norco Bicycles</td>\n",
       "      <td>Road</td>\n",
       "      <td>medium</td>\n",
       "      <td>medium</td>\n",
       "      <td>1036.59</td>\n",
       "      <td>206.350000</td>\n",
       "      <td>830.240000</td>\n",
       "      <td>1991-05-06</td>\n",
       "    </tr>\n",
       "    <tr>\n",
       "      <th>16700</th>\n",
       "      <td>16701</td>\n",
       "      <td>0</td>\n",
       "      <td>5034</td>\n",
       "      <td>2017-01-27</td>\n",
       "      <td>No</td>\n",
       "      <td>Approved</td>\n",
       "      <td>Norco Bicycles</td>\n",
       "      <td>Standard</td>\n",
       "      <td>medium</td>\n",
       "      <td>medium</td>\n",
       "      <td>360.40</td>\n",
       "      <td>270.299988</td>\n",
       "      <td>90.100012</td>\n",
       "      <td>1997-08-25</td>\n",
       "    </tr>\n",
       "    <tr>\n",
       "      <th>17468</th>\n",
       "      <td>17469</td>\n",
       "      <td>0</td>\n",
       "      <td>5034</td>\n",
       "      <td>2017-01-03</td>\n",
       "      <td>No</td>\n",
       "      <td>Approved</td>\n",
       "      <td>OHM Cycles</td>\n",
       "      <td>Road</td>\n",
       "      <td>medium</td>\n",
       "      <td>medium</td>\n",
       "      <td>742.54</td>\n",
       "      <td>667.400024</td>\n",
       "      <td>75.139976</td>\n",
       "      <td>1992-10-02</td>\n",
       "    </tr>\n",
       "    <tr>\n",
       "      <th>17697</th>\n",
       "      <td>17698</td>\n",
       "      <td>98</td>\n",
       "      <td>23</td>\n",
       "      <td>2017-05-16</td>\n",
       "      <td>No</td>\n",
       "      <td>Approved</td>\n",
       "      <td>OHM Cycles</td>\n",
       "      <td>Standard</td>\n",
       "      <td>medium</td>\n",
       "      <td>medium</td>\n",
       "      <td>795.34</td>\n",
       "      <td>101.580000</td>\n",
       "      <td>693.760000</td>\n",
       "      <td>1993-07-20</td>\n",
       "    </tr>\n",
       "    <tr>\n",
       "      <th>18218</th>\n",
       "      <td>18219</td>\n",
       "      <td>0</td>\n",
       "      <td>23</td>\n",
       "      <td>2017-03-27</td>\n",
       "      <td>Yes</td>\n",
       "      <td>Approved</td>\n",
       "      <td>Solex</td>\n",
       "      <td>Standard</td>\n",
       "      <td>medium</td>\n",
       "      <td>large</td>\n",
       "      <td>202.62</td>\n",
       "      <td>151.960000</td>\n",
       "      <td>50.660000</td>\n",
       "      <td>2016-03-29</td>\n",
       "    </tr>\n",
       "    <tr>\n",
       "      <th>18945</th>\n",
       "      <td>18946</td>\n",
       "      <td>53</td>\n",
       "      <td>10</td>\n",
       "      <td>2017-11-17</td>\n",
       "      <td>No</td>\n",
       "      <td>Approved</td>\n",
       "      <td>OHM Cycles</td>\n",
       "      <td>Standard</td>\n",
       "      <td>medium</td>\n",
       "      <td>medium</td>\n",
       "      <td>795.34</td>\n",
       "      <td>101.580000</td>\n",
       "      <td>693.760000</td>\n",
       "      <td>2015-06-17</td>\n",
       "    </tr>\n",
       "    <tr>\n",
       "      <th>19497</th>\n",
       "      <td>19498</td>\n",
       "      <td>5</td>\n",
       "      <td>3</td>\n",
       "      <td>2017-09-19</td>\n",
       "      <td>No</td>\n",
       "      <td>Approved</td>\n",
       "      <td>Trek Bicycles</td>\n",
       "      <td>Mountain</td>\n",
       "      <td>low</td>\n",
       "      <td>medium</td>\n",
       "      <td>574.64</td>\n",
       "      <td>459.710000</td>\n",
       "      <td>114.930000</td>\n",
       "      <td>1998-12-16</td>\n",
       "    </tr>\n",
       "  </tbody>\n",
       "</table>\n",
       "</div>"
      ],
      "text/plain": [
       "       transaction_id  product_id  customer_id transaction_date online_order  \\\n",
       "117               118          20           22       2017-03-21           No   \n",
       "3479             3480          32           22       2017-09-18           No   \n",
       "3503             3504          38           22       2017-07-16          Yes   \n",
       "4564             4565           5           10       2017-08-26           No   \n",
       "4600             4601          65           22       2017-05-29          Yes   \n",
       "5597             5598          85           23       2017-12-20           No   \n",
       "5955             5956          21           10       2017-06-20          Yes   \n",
       "7428             7429          54           23       2017-10-06           No   \n",
       "7950             7951          19           23       2017-08-03          Yes   \n",
       "8206             8207          53           22       2017-09-19           No   \n",
       "8707             8708           0         5034       2017-10-07           No   \n",
       "10249           10250          44           10       2017-07-13          Yes   \n",
       "10301           10302          33            3       2017-02-23           No   \n",
       "11004           11005          94            3       2017-09-16           No   \n",
       "11783           11784          55            3       2017-04-21          Yes   \n",
       "12953           12954          77            3       2017-04-05           No   \n",
       "13284           13285          47            3       2017-09-04           No   \n",
       "14898           14899          69           10       2017-08-09           No   \n",
       "14955           14956          45           22       2017-09-24          Yes   \n",
       "15187           15188          82            3       2017-03-24           No   \n",
       "15586           15587          77           23       2017-10-09          Yes   \n",
       "16625           16626         100           22       2017-03-10           No   \n",
       "16700           16701           0         5034       2017-01-27           No   \n",
       "17468           17469           0         5034       2017-01-03           No   \n",
       "17697           17698          98           23       2017-05-16           No   \n",
       "18218           18219           0           23       2017-03-27          Yes   \n",
       "18945           18946          53           10       2017-11-17           No   \n",
       "19497           19498           5            3       2017-09-19           No   \n",
       "\n",
       "      order_status           brand product_line product_class product_size  \\\n",
       "117       Approved   Trek Bicycles     Standard        medium        small   \n",
       "3479      Approved  Giant Bicycles     Standard        medium       medium   \n",
       "3503      Approved           Solex     Standard        medium       medium   \n",
       "4564      Approved   Trek Bicycles     Mountain           low       medium   \n",
       "4600      Approved        WeareA2B     Standard        medium       medium   \n",
       "5597      Approved        WeareA2B     Standard        medium       medium   \n",
       "5955      Approved           Solex     Standard        medium        large   \n",
       "7428      Approved        WeareA2B     Standard        medium       medium   \n",
       "7950      Approved   Trek Bicycles     Mountain           low       medium   \n",
       "8206      Approved      OHM Cycles     Standard        medium       medium   \n",
       "8707      Approved           Solex         Road        medium       medium   \n",
       "10249     Approved        WeareA2B     Standard        medium       medium   \n",
       "10301     Approved  Giant Bicycles     Standard        medium        small   \n",
       "11004     Approved  Giant Bicycles     Standard        medium        large   \n",
       "11783     Approved   Trek Bicycles         Road        medium        large   \n",
       "12953     Approved  Norco Bicycles         Road        medium        large   \n",
       "13284     Approved   Trek Bicycles         Road           low        small   \n",
       "14898     Approved  Giant Bicycles         Road        medium       medium   \n",
       "14955     Approved           Solex     Standard        medium       medium   \n",
       "15187     Approved  Norco Bicycles     Standard          high       medium   \n",
       "15586     Approved        WeareA2B     Standard        medium       medium   \n",
       "16625     Approved  Norco Bicycles         Road        medium       medium   \n",
       "16700     Approved  Norco Bicycles     Standard        medium       medium   \n",
       "17468     Approved      OHM Cycles         Road        medium       medium   \n",
       "17697     Approved      OHM Cycles     Standard        medium       medium   \n",
       "18218     Approved           Solex     Standard        medium        large   \n",
       "18945     Approved      OHM Cycles     Standard        medium       medium   \n",
       "19497     Approved   Trek Bicycles     Mountain           low       medium   \n",
       "\n",
       "       list_price  standard_cost       profit product_first_sold_date  \n",
       "117       1775.81    1580.470000   195.340000              2010-05-05  \n",
       "3479       642.70     211.370000   431.330000              2002-03-22  \n",
       "3503      1577.53     826.510000   751.020000              2011-03-16  \n",
       "4564       574.64     459.710000   114.930000              2004-09-28  \n",
       "4600      1807.45     778.690000  1028.760000              2015-05-21  \n",
       "5597      1228.07     400.910000   827.160000              2015-08-10  \n",
       "5955      1071.23     380.740000   690.490000              1993-05-26  \n",
       "7428      1807.45     778.690000  1028.760000              2016-12-06  \n",
       "7950       574.64     459.710000   114.930000              2007-08-04  \n",
       "8206       795.34     101.580000   693.760000              1997-02-09  \n",
       "8707       416.98     312.735016   104.244984              2015-08-02  \n",
       "10249     1769.64     108.760000  1660.880000              2007-12-11  \n",
       "10301     1311.44    1167.180000   144.260000              2012-04-10  \n",
       "11004     1635.30     993.660000   641.640000              2012-04-10  \n",
       "11783     1894.19     598.760000  1295.430000              2014-03-03  \n",
       "12953     1240.31     795.100000   445.210000              2000-11-03  \n",
       "13284     1720.70    1531.420000   189.280000              2010-05-05  \n",
       "14898      792.90     594.680000   198.220000              2006-05-22  \n",
       "14955      441.49      84.990000   356.500000              1993-04-12  \n",
       "15187     1148.64     689.180000   459.460000              2002-08-31  \n",
       "15586     1769.64     108.760000  1660.880000              2014-07-28  \n",
       "16625     1036.59     206.350000   830.240000              1991-05-06  \n",
       "16700      360.40     270.299988    90.100012              1997-08-25  \n",
       "17468      742.54     667.400024    75.139976              1992-10-02  \n",
       "17697      795.34     101.580000   693.760000              1993-07-20  \n",
       "18218      202.62     151.960000    50.660000              2016-03-29  \n",
       "18945      795.34     101.580000   693.760000              2015-06-17  \n",
       "19497      574.64     459.710000   114.930000              1998-12-16  "
      ]
     },
     "execution_count": 88,
     "metadata": {},
     "output_type": "execute_result"
    }
   ],
   "source": [
    "kpmg_transactions[~kpmg_transactions['customer_id'].isin(customer_address['customer_id'])]"
   ]
  },
  {
   "cell_type": "markdown",
   "id": "be87f8e1",
   "metadata": {},
   "source": [
    "## List of customers id's from customer address not found in transactions"
   ]
  },
  {
   "cell_type": "code",
   "execution_count": 89,
   "id": "c7466007",
   "metadata": {},
   "outputs": [
    {
     "data": {
      "text/html": [
       "<div>\n",
       "<style scoped>\n",
       "    .dataframe tbody tr th:only-of-type {\n",
       "        vertical-align: middle;\n",
       "    }\n",
       "\n",
       "    .dataframe tbody tr th {\n",
       "        vertical-align: top;\n",
       "    }\n",
       "\n",
       "    .dataframe thead th {\n",
       "        text-align: right;\n",
       "    }\n",
       "</style>\n",
       "<table border=\"1\" class=\"dataframe\">\n",
       "  <thead>\n",
       "    <tr style=\"text-align: right;\">\n",
       "      <th></th>\n",
       "      <th>customer_id</th>\n",
       "      <th>address</th>\n",
       "      <th>postcode</th>\n",
       "      <th>state</th>\n",
       "      <th>country</th>\n",
       "      <th>property_valuation</th>\n",
       "    </tr>\n",
       "  </thead>\n",
       "  <tbody>\n",
       "    <tr>\n",
       "      <th>282</th>\n",
       "      <td>287</td>\n",
       "      <td>5583 Prairie Rose Trail</td>\n",
       "      <td>2765</td>\n",
       "      <td>NSW</td>\n",
       "      <td>Australia</td>\n",
       "      <td>8</td>\n",
       "    </tr>\n",
       "    <tr>\n",
       "      <th>847</th>\n",
       "      <td>852</td>\n",
       "      <td>641 Waywood Lane</td>\n",
       "      <td>2336</td>\n",
       "      <td>NSW</td>\n",
       "      <td>Australia</td>\n",
       "      <td>7</td>\n",
       "    </tr>\n",
       "    <tr>\n",
       "      <th>864</th>\n",
       "      <td>869</td>\n",
       "      <td>6712 Nova Crossing</td>\n",
       "      <td>2065</td>\n",
       "      <td>NSW</td>\n",
       "      <td>Australia</td>\n",
       "      <td>10</td>\n",
       "    </tr>\n",
       "    <tr>\n",
       "      <th>1368</th>\n",
       "      <td>1373</td>\n",
       "      <td>939 Hermina Drive</td>\n",
       "      <td>3198</td>\n",
       "      <td>VIC</td>\n",
       "      <td>Australia</td>\n",
       "      <td>8</td>\n",
       "    </tr>\n",
       "    <tr>\n",
       "      <th>2069</th>\n",
       "      <td>2074</td>\n",
       "      <td>0442 Debra Point</td>\n",
       "      <td>2281</td>\n",
       "      <td>NSW</td>\n",
       "      <td>Australia</td>\n",
       "      <td>7</td>\n",
       "    </tr>\n",
       "    <tr>\n",
       "      <th>...</th>\n",
       "      <td>...</td>\n",
       "      <td>...</td>\n",
       "      <td>...</td>\n",
       "      <td>...</td>\n",
       "      <td>...</td>\n",
       "      <td>...</td>\n",
       "    </tr>\n",
       "    <tr>\n",
       "      <th>3994</th>\n",
       "      <td>3999</td>\n",
       "      <td>1482 Hauk Trail</td>\n",
       "      <td>3064</td>\n",
       "      <td>VIC</td>\n",
       "      <td>Australia</td>\n",
       "      <td>3</td>\n",
       "    </tr>\n",
       "    <tr>\n",
       "      <th>3995</th>\n",
       "      <td>4000</td>\n",
       "      <td>57042 Village Green Point</td>\n",
       "      <td>4511</td>\n",
       "      <td>QLD</td>\n",
       "      <td>Australia</td>\n",
       "      <td>6</td>\n",
       "    </tr>\n",
       "    <tr>\n",
       "      <th>3996</th>\n",
       "      <td>4001</td>\n",
       "      <td>87 Crescent Oaks Alley</td>\n",
       "      <td>2756</td>\n",
       "      <td>NSW</td>\n",
       "      <td>Australia</td>\n",
       "      <td>10</td>\n",
       "    </tr>\n",
       "    <tr>\n",
       "      <th>3997</th>\n",
       "      <td>4002</td>\n",
       "      <td>8194 Lien Street</td>\n",
       "      <td>4032</td>\n",
       "      <td>QLD</td>\n",
       "      <td>Australia</td>\n",
       "      <td>7</td>\n",
       "    </tr>\n",
       "    <tr>\n",
       "      <th>3998</th>\n",
       "      <td>4003</td>\n",
       "      <td>320 Acker Drive</td>\n",
       "      <td>2251</td>\n",
       "      <td>NSW</td>\n",
       "      <td>Australia</td>\n",
       "      <td>7</td>\n",
       "    </tr>\n",
       "  </tbody>\n",
       "</table>\n",
       "<p>514 rows × 6 columns</p>\n",
       "</div>"
      ],
      "text/plain": [
       "      customer_id                    address  postcode state    country  \\\n",
       "282           287    5583 Prairie Rose Trail      2765   NSW  Australia   \n",
       "847           852           641 Waywood Lane      2336   NSW  Australia   \n",
       "864           869         6712 Nova Crossing      2065   NSW  Australia   \n",
       "1368         1373          939 Hermina Drive      3198   VIC  Australia   \n",
       "2069         2074           0442 Debra Point      2281   NSW  Australia   \n",
       "...           ...                        ...       ...   ...        ...   \n",
       "3994         3999            1482 Hauk Trail      3064   VIC  Australia   \n",
       "3995         4000  57042 Village Green Point      4511   QLD  Australia   \n",
       "3996         4001     87 Crescent Oaks Alley      2756   NSW  Australia   \n",
       "3997         4002           8194 Lien Street      4032   QLD  Australia   \n",
       "3998         4003            320 Acker Drive      2251   NSW  Australia   \n",
       "\n",
       "      property_valuation  \n",
       "282                    8  \n",
       "847                    7  \n",
       "864                   10  \n",
       "1368                   8  \n",
       "2069                   7  \n",
       "...                  ...  \n",
       "3994                   3  \n",
       "3995                   6  \n",
       "3996                  10  \n",
       "3997                   7  \n",
       "3998                   7  \n",
       "\n",
       "[514 rows x 6 columns]"
      ]
     },
     "execution_count": 89,
     "metadata": {},
     "output_type": "execute_result"
    }
   ],
   "source": [
    "customer_address[~customer_address['customer_id'].isin(kpmg_transactions['customer_id'])]"
   ]
  },
  {
   "cell_type": "markdown",
   "id": "a612ea82",
   "metadata": {},
   "source": [
    "## List of customers id's from customer demographics not found in transactions"
   ]
  },
  {
   "cell_type": "code",
   "execution_count": 90,
   "id": "4be29006",
   "metadata": {},
   "outputs": [
    {
     "data": {
      "text/html": [
       "<div>\n",
       "<style scoped>\n",
       "    .dataframe tbody tr th:only-of-type {\n",
       "        vertical-align: middle;\n",
       "    }\n",
       "\n",
       "    .dataframe tbody tr th {\n",
       "        vertical-align: top;\n",
       "    }\n",
       "\n",
       "    .dataframe thead th {\n",
       "        text-align: right;\n",
       "    }\n",
       "</style>\n",
       "<table border=\"1\" class=\"dataframe\">\n",
       "  <thead>\n",
       "    <tr style=\"text-align: right;\">\n",
       "      <th></th>\n",
       "      <th>customer_id</th>\n",
       "      <th>first_name</th>\n",
       "      <th>last_name</th>\n",
       "      <th>gender</th>\n",
       "      <th>past_3_years_bike_related_purchases</th>\n",
       "      <th>DOB</th>\n",
       "      <th>age</th>\n",
       "      <th>job_title</th>\n",
       "      <th>job_industry_category</th>\n",
       "      <th>wealth_segment</th>\n",
       "      <th>deceased_indicator</th>\n",
       "      <th>owns_car</th>\n",
       "      <th>tenure</th>\n",
       "    </tr>\n",
       "  </thead>\n",
       "  <tbody>\n",
       "    <tr>\n",
       "      <th>286</th>\n",
       "      <td>287</td>\n",
       "      <td>Hannie</td>\n",
       "      <td>Wodham</td>\n",
       "      <td>Female</td>\n",
       "      <td>41</td>\n",
       "      <td>1985-05-06</td>\n",
       "      <td>32</td>\n",
       "      <td>Nuclear Power Engineer</td>\n",
       "      <td>Manufacturing</td>\n",
       "      <td>Affluent Customer</td>\n",
       "      <td>N</td>\n",
       "      <td>No</td>\n",
       "      <td>4.0</td>\n",
       "    </tr>\n",
       "    <tr>\n",
       "      <th>851</th>\n",
       "      <td>852</td>\n",
       "      <td>Andie</td>\n",
       "      <td>Bonney</td>\n",
       "      <td>Female</td>\n",
       "      <td>37</td>\n",
       "      <td>2000-11-04</td>\n",
       "      <td>17</td>\n",
       "      <td>Compensation Analyst</td>\n",
       "      <td>Financial Services</td>\n",
       "      <td>Affluent Customer</td>\n",
       "      <td>N</td>\n",
       "      <td>Yes</td>\n",
       "      <td>2.0</td>\n",
       "    </tr>\n",
       "    <tr>\n",
       "      <th>868</th>\n",
       "      <td>869</td>\n",
       "      <td>Addia</td>\n",
       "      <td>Abels</td>\n",
       "      <td>Female</td>\n",
       "      <td>7</td>\n",
       "      <td>1984-03-11</td>\n",
       "      <td>33</td>\n",
       "      <td>Account Representative I</td>\n",
       "      <td>Financial Services</td>\n",
       "      <td>High Net Worth</td>\n",
       "      <td>N</td>\n",
       "      <td>Yes</td>\n",
       "      <td>10.0</td>\n",
       "    </tr>\n",
       "    <tr>\n",
       "      <th>1372</th>\n",
       "      <td>1373</td>\n",
       "      <td>Shaylynn</td>\n",
       "      <td>Epsley</td>\n",
       "      <td>Female</td>\n",
       "      <td>3</td>\n",
       "      <td>1958-09-23</td>\n",
       "      <td>59</td>\n",
       "      <td>Director of Sales</td>\n",
       "      <td>Financial Services</td>\n",
       "      <td>Mass Customer</td>\n",
       "      <td>N</td>\n",
       "      <td>Yes</td>\n",
       "      <td>12.0</td>\n",
       "    </tr>\n",
       "    <tr>\n",
       "      <th>2875</th>\n",
       "      <td>2876</td>\n",
       "      <td>Swen</td>\n",
       "      <td>McGarahan</td>\n",
       "      <td>Male</td>\n",
       "      <td>68</td>\n",
       "      <td>1981-01-29</td>\n",
       "      <td>36</td>\n",
       "      <td>General Manager</td>\n",
       "      <td>Retail</td>\n",
       "      <td>High Net Worth</td>\n",
       "      <td>N</td>\n",
       "      <td>No</td>\n",
       "      <td>10.0</td>\n",
       "    </tr>\n",
       "    <tr>\n",
       "      <th>...</th>\n",
       "      <td>...</td>\n",
       "      <td>...</td>\n",
       "      <td>...</td>\n",
       "      <td>...</td>\n",
       "      <td>...</td>\n",
       "      <td>...</td>\n",
       "      <td>...</td>\n",
       "      <td>...</td>\n",
       "      <td>...</td>\n",
       "      <td>...</td>\n",
       "      <td>...</td>\n",
       "      <td>...</td>\n",
       "      <td>...</td>\n",
       "    </tr>\n",
       "    <tr>\n",
       "      <th>3992</th>\n",
       "      <td>3993</td>\n",
       "      <td>Andi</td>\n",
       "      <td>Dumelow</td>\n",
       "      <td>Female</td>\n",
       "      <td>6</td>\n",
       "      <td>1974-12-05</td>\n",
       "      <td>43</td>\n",
       "      <td>Librarian</td>\n",
       "      <td>Entertainment</td>\n",
       "      <td>Mass Customer</td>\n",
       "      <td>N</td>\n",
       "      <td>No</td>\n",
       "      <td>10.0</td>\n",
       "    </tr>\n",
       "    <tr>\n",
       "      <th>3993</th>\n",
       "      <td>3994</td>\n",
       "      <td>Stephie</td>\n",
       "      <td>Byars</td>\n",
       "      <td>Female</td>\n",
       "      <td>5</td>\n",
       "      <td>1989-04-07</td>\n",
       "      <td>28</td>\n",
       "      <td>Structural Analysis Engineer</td>\n",
       "      <td>Manufacturing</td>\n",
       "      <td>Affluent Customer</td>\n",
       "      <td>N</td>\n",
       "      <td>No</td>\n",
       "      <td>12.0</td>\n",
       "    </tr>\n",
       "    <tr>\n",
       "      <th>3994</th>\n",
       "      <td>3995</td>\n",
       "      <td>Rusty</td>\n",
       "      <td>Iapico</td>\n",
       "      <td>Male</td>\n",
       "      <td>93</td>\n",
       "      <td>1975-12-12</td>\n",
       "      <td>42</td>\n",
       "      <td>Staff Scientist</td>\n",
       "      <td>Manufacturing</td>\n",
       "      <td>Mass Customer</td>\n",
       "      <td>N</td>\n",
       "      <td>Yes</td>\n",
       "      <td>14.0</td>\n",
       "    </tr>\n",
       "    <tr>\n",
       "      <th>3995</th>\n",
       "      <td>3996</td>\n",
       "      <td>Rosalia</td>\n",
       "      <td>Halgarth</td>\n",
       "      <td>Female</td>\n",
       "      <td>8</td>\n",
       "      <td>1975-08-09</td>\n",
       "      <td>42</td>\n",
       "      <td>VP Product Management</td>\n",
       "      <td>Health</td>\n",
       "      <td>Mass Customer</td>\n",
       "      <td>N</td>\n",
       "      <td>No</td>\n",
       "      <td>19.0</td>\n",
       "    </tr>\n",
       "    <tr>\n",
       "      <th>3996</th>\n",
       "      <td>3997</td>\n",
       "      <td>Blanch</td>\n",
       "      <td>Nisuis</td>\n",
       "      <td>Female</td>\n",
       "      <td>87</td>\n",
       "      <td>2001-07-13</td>\n",
       "      <td>16</td>\n",
       "      <td>Statistician II</td>\n",
       "      <td>Manufacturing</td>\n",
       "      <td>High Net Worth</td>\n",
       "      <td>N</td>\n",
       "      <td>Yes</td>\n",
       "      <td>1.0</td>\n",
       "    </tr>\n",
       "  </tbody>\n",
       "</table>\n",
       "<p>332 rows × 13 columns</p>\n",
       "</div>"
      ],
      "text/plain": [
       "      customer_id first_name  last_name  gender  \\\n",
       "286           287     Hannie     Wodham  Female   \n",
       "851           852      Andie     Bonney  Female   \n",
       "868           869      Addia      Abels  Female   \n",
       "1372         1373   Shaylynn     Epsley  Female   \n",
       "2875         2876       Swen  McGarahan    Male   \n",
       "...           ...        ...        ...     ...   \n",
       "3992         3993       Andi    Dumelow  Female   \n",
       "3993         3994    Stephie      Byars  Female   \n",
       "3994         3995      Rusty     Iapico    Male   \n",
       "3995         3996    Rosalia   Halgarth  Female   \n",
       "3996         3997     Blanch     Nisuis  Female   \n",
       "\n",
       "      past_3_years_bike_related_purchases        DOB  age  \\\n",
       "286                                    41 1985-05-06   32   \n",
       "851                                    37 2000-11-04   17   \n",
       "868                                     7 1984-03-11   33   \n",
       "1372                                    3 1958-09-23   59   \n",
       "2875                                   68 1981-01-29   36   \n",
       "...                                   ...        ...  ...   \n",
       "3992                                    6 1974-12-05   43   \n",
       "3993                                    5 1989-04-07   28   \n",
       "3994                                   93 1975-12-12   42   \n",
       "3995                                    8 1975-08-09   42   \n",
       "3996                                   87 2001-07-13   16   \n",
       "\n",
       "                         job_title job_industry_category     wealth_segment  \\\n",
       "286         Nuclear Power Engineer         Manufacturing  Affluent Customer   \n",
       "851           Compensation Analyst    Financial Services  Affluent Customer   \n",
       "868       Account Representative I    Financial Services     High Net Worth   \n",
       "1372             Director of Sales    Financial Services      Mass Customer   \n",
       "2875               General Manager                Retail     High Net Worth   \n",
       "...                            ...                   ...                ...   \n",
       "3992                     Librarian         Entertainment      Mass Customer   \n",
       "3993  Structural Analysis Engineer         Manufacturing  Affluent Customer   \n",
       "3994               Staff Scientist         Manufacturing      Mass Customer   \n",
       "3995         VP Product Management                Health      Mass Customer   \n",
       "3996               Statistician II         Manufacturing     High Net Worth   \n",
       "\n",
       "     deceased_indicator owns_car  tenure  \n",
       "286                   N       No     4.0  \n",
       "851                   N      Yes     2.0  \n",
       "868                   N      Yes    10.0  \n",
       "1372                  N      Yes    12.0  \n",
       "2875                  N       No    10.0  \n",
       "...                 ...      ...     ...  \n",
       "3992                  N       No    10.0  \n",
       "3993                  N       No    12.0  \n",
       "3994                  N      Yes    14.0  \n",
       "3995                  N       No    19.0  \n",
       "3996                  N      Yes     1.0  \n",
       "\n",
       "[332 rows x 13 columns]"
      ]
     },
     "execution_count": 90,
     "metadata": {},
     "output_type": "execute_result"
    }
   ],
   "source": [
    "customerdemographic[~customerdemographic['customer_id'].isin(kpmg_transactions['customer_id'])]"
   ]
  },
  {
   "cell_type": "code",
   "execution_count": null,
   "id": "550e43fe",
   "metadata": {},
   "outputs": [],
   "source": []
  }
 ],
 "metadata": {
  "kernelspec": {
   "display_name": "Python 3",
   "language": "python",
   "name": "python3"
  },
  "language_info": {
   "codemirror_mode": {
    "name": "ipython",
    "version": 3
   },
   "file_extension": ".py",
   "mimetype": "text/x-python",
   "name": "python",
   "nbconvert_exporter": "python",
   "pygments_lexer": "ipython3",
   "version": "3.8.8"
  }
 },
 "nbformat": 4,
 "nbformat_minor": 5
}
